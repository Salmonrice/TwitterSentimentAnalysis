{
 "cells": [
  {
   "cell_type": "code",
   "execution_count": 4,
   "metadata": {},
   "outputs": [],
   "source": [
    "import deepcut\n",
    "from pathlib import Path\n",
    "from pythainlp import word_tokenize\n",
    "from matplotlib import pyplot as plt\n",
    "\n",
    "import re\n",
    "import pandas as pd\n",
    "import numpy as np\n",
    "from numpy import array\n",
    "from numpy import argmax\n",
    "\n",
    "from sklearn.preprocessing import OneHotEncoder\n",
    "from sklearn.preprocessing import LabelEncoder\n",
    "from keras.preprocessing.sequence import pad_sequences\n",
    "from keras.preprocessing.text import Tokenizer\n",
    "\n",
    "from nltk import FreqDist, precision, recall, f_measure, NaiveBayesClassifier\n",
    "from nltk.classify import apply_features\n",
    "from nltk.classify import util\n",
    "import collections, itertools\n",
    "from sklearn.model_selection import KFold"
   ]
  },
  {
   "cell_type": "code",
   "execution_count": 5,
   "metadata": {},
   "outputs": [],
   "source": [
    "data = pd.read_csv('train.csv')"
   ]
  },
  {
   "cell_type": "code",
   "execution_count": 6,
   "metadata": {},
   "outputs": [
    {
     "data": {
      "text/plain": [
       "'\\ntexts = []\\nlabels = []\\nwith open(\"C:/Users/60050204/BigData/wisesight-sentiment/kaggle-competition/train.txt\",encoding=\"utf8\") as f:\\n    for line in f:\\n        texts.append(line.strip())\\n        \\nwith open(\"C:/Users/60050204/BigData/wisesight-sentiment/kaggle-competition/train_label.txt\",encoding=\"utf8\") as f:\\n    for line in f:\\n        labels.append(line.strip())\\n\\ndf = pd.DataFrame({\"texts\":texts,\"category\":labels})\\ndf.shape\\n'"
      ]
     },
     "execution_count": 6,
     "metadata": {},
     "output_type": "execute_result"
    }
   ],
   "source": [
    "'''\n",
    "texts = []\n",
    "labels = []\n",
    "with open(\"C:/Users/60050204/BigData/wisesight-sentiment/kaggle-competition/train.txt\",encoding=\"utf8\") as f:\n",
    "    for line in f:\n",
    "        texts.append(line.strip())\n",
    "        \n",
    "with open(\"C:/Users/60050204/BigData/wisesight-sentiment/kaggle-competition/train_label.txt\",encoding=\"utf8\") as f:\n",
    "    for line in f:\n",
    "        labels.append(line.strip())\n",
    "\n",
    "df = pd.DataFrame({\"texts\":texts,\"category\":labels})\n",
    "df.shape\n",
    "'''"
   ]
  },
  {
   "cell_type": "code",
   "execution_count": 7,
   "metadata": {},
   "outputs": [],
   "source": [
    "data = data[data.labels != 'q']"
   ]
  },
  {
   "cell_type": "code",
   "execution_count": 8,
   "metadata": {},
   "outputs": [
    {
     "data": {
      "text/html": [
       "<div>\n",
       "<style scoped>\n",
       "    .dataframe tbody tr th:only-of-type {\n",
       "        vertical-align: middle;\n",
       "    }\n",
       "\n",
       "    .dataframe tbody tr th {\n",
       "        vertical-align: top;\n",
       "    }\n",
       "\n",
       "    .dataframe thead tr th {\n",
       "        text-align: left;\n",
       "    }\n",
       "\n",
       "    .dataframe thead tr:last-of-type th {\n",
       "        text-align: right;\n",
       "    }\n",
       "</style>\n",
       "<table border=\"1\" class=\"dataframe\">\n",
       "  <thead>\n",
       "    <tr>\n",
       "      <th></th>\n",
       "      <th colspan=\"4\" halign=\"left\">words</th>\n",
       "    </tr>\n",
       "    <tr>\n",
       "      <th></th>\n",
       "      <th>count</th>\n",
       "      <th>unique</th>\n",
       "      <th>top</th>\n",
       "      <th>freq</th>\n",
       "    </tr>\n",
       "    <tr>\n",
       "      <th>labels</th>\n",
       "      <th></th>\n",
       "      <th></th>\n",
       "      <th></th>\n",
       "      <th></th>\n",
       "    </tr>\n",
       "  </thead>\n",
       "  <tbody>\n",
       "    <tr>\n",
       "      <th>neg</th>\n",
       "      <td>7393</td>\n",
       "      <td>7393</td>\n",
       "      <td>สุดยอดครับรถดีมาก hrv โดนแซงแน่</td>\n",
       "      <td>1</td>\n",
       "    </tr>\n",
       "    <tr>\n",
       "      <th>neu</th>\n",
       "      <td>13087</td>\n",
       "      <td>13087</td>\n",
       "      <td>กินง่ายกว่าสูตรเก่าเยอะ ตอนนี้ลืมไปแล้วว่าลีโอ...</td>\n",
       "      <td>1</td>\n",
       "    </tr>\n",
       "    <tr>\n",
       "      <th>pos</th>\n",
       "      <td>4617</td>\n",
       "      <td>4617</td>\n",
       "      <td>Nissan X-Trail ขับขี่ในเมืองก็ประหยัด ขับขี่ตะ...</td>\n",
       "      <td>1</td>\n",
       "    </tr>\n",
       "  </tbody>\n",
       "</table>\n",
       "</div>"
      ],
      "text/plain": [
       "        words                                                               \n",
       "        count unique                                                top freq\n",
       "labels                                                                      \n",
       "neg      7393   7393                    สุดยอดครับรถดีมาก hrv โดนแซงแน่    1\n",
       "neu     13087  13087  กินง่ายกว่าสูตรเก่าเยอะ ตอนนี้ลืมไปแล้วว่าลีโอ...    1\n",
       "pos      4617   4617  Nissan X-Trail ขับขี่ในเมืองก็ประหยัด ขับขี่ตะ...    1"
      ]
     },
     "execution_count": 8,
     "metadata": {},
     "output_type": "execute_result"
    }
   ],
   "source": [
    "data.groupby('labels').describe()"
   ]
  },
  {
   "cell_type": "code",
   "execution_count": 9,
   "metadata": {},
   "outputs": [
    {
     "data": {
      "text/plain": [
       "count    25097.000000\n",
       "mean        25.850779\n",
       "std         44.237998\n",
       "min          1.000000\n",
       "25%          5.000000\n",
       "50%         11.000000\n",
       "75%         28.000000\n",
       "max        758.000000\n",
       "Name: length, dtype: float64"
      ]
     },
     "execution_count": 9,
     "metadata": {},
     "output_type": "execute_result"
    }
   ],
   "source": [
    "data['length'] = data['words'].apply(word_tokenize).apply(len)\n",
    "data['length'].describe()"
   ]
  },
  {
   "cell_type": "code",
   "execution_count": 10,
   "metadata": {},
   "outputs": [
    {
     "data": {
      "text/html": [
       "<div>\n",
       "<style scoped>\n",
       "    .dataframe tbody tr th:only-of-type {\n",
       "        vertical-align: middle;\n",
       "    }\n",
       "\n",
       "    .dataframe tbody tr th {\n",
       "        vertical-align: top;\n",
       "    }\n",
       "\n",
       "    .dataframe thead th {\n",
       "        text-align: right;\n",
       "    }\n",
       "</style>\n",
       "<table border=\"1\" class=\"dataframe\">\n",
       "  <thead>\n",
       "    <tr style=\"text-align: right;\">\n",
       "      <th></th>\n",
       "      <th>words</th>\n",
       "      <th>labels</th>\n",
       "      <th>length</th>\n",
       "    </tr>\n",
       "  </thead>\n",
       "  <tbody>\n",
       "    <tr>\n",
       "      <th>0</th>\n",
       "      <td>ประเทศเราผลิตและส่งออกยาสูบเยอะสุดในโลกจิงป่าวคับ</td>\n",
       "      <td>neu</td>\n",
       "      <td>13</td>\n",
       "    </tr>\n",
       "    <tr>\n",
       "      <th>1</th>\n",
       "      <td>คะ</td>\n",
       "      <td>neu</td>\n",
       "      <td>1</td>\n",
       "    </tr>\n",
       "    <tr>\n",
       "      <th>2</th>\n",
       "      <td>อิเหี้ยออมทำกูอยากกินเอ็มเค</td>\n",
       "      <td>neg</td>\n",
       "      <td>9</td>\n",
       "    </tr>\n",
       "    <tr>\n",
       "      <th>3</th>\n",
       "      <td>😅😅😅</td>\n",
       "      <td>neu</td>\n",
       "      <td>1</td>\n",
       "    </tr>\n",
       "    <tr>\n",
       "      <th>4</th>\n",
       "      <td>สวัสดีวันพุธ แนน อะไรนะ</td>\n",
       "      <td>neu</td>\n",
       "      <td>8</td>\n",
       "    </tr>\n",
       "    <tr>\n",
       "      <th>...</th>\n",
       "      <td>...</td>\n",
       "      <td>...</td>\n",
       "      <td>...</td>\n",
       "    </tr>\n",
       "    <tr>\n",
       "      <th>25610</th>\n",
       "      <td>อีชาติชั้ว</td>\n",
       "      <td>neg</td>\n",
       "      <td>3</td>\n",
       "    </tr>\n",
       "    <tr>\n",
       "      <th>25611</th>\n",
       "      <td>อีช้างเย๊ด</td>\n",
       "      <td>neg</td>\n",
       "      <td>3</td>\n",
       "    </tr>\n",
       "    <tr>\n",
       "      <th>25612</th>\n",
       "      <td>อยากเอาหญิง</td>\n",
       "      <td>neg</td>\n",
       "      <td>3</td>\n",
       "    </tr>\n",
       "    <tr>\n",
       "      <th>25613</th>\n",
       "      <td>ทมิฬ</td>\n",
       "      <td>neg</td>\n",
       "      <td>1</td>\n",
       "    </tr>\n",
       "    <tr>\n",
       "      <th>25614</th>\n",
       "      <td>ลูกโสเภณี</td>\n",
       "      <td>neg</td>\n",
       "      <td>2</td>\n",
       "    </tr>\n",
       "  </tbody>\n",
       "</table>\n",
       "<p>25097 rows × 3 columns</p>\n",
       "</div>"
      ],
      "text/plain": [
       "                                                   words labels  length\n",
       "0      ประเทศเราผลิตและส่งออกยาสูบเยอะสุดในโลกจิงป่าวคับ    neu      13\n",
       "1                                                     คะ    neu       1\n",
       "2                            อิเหี้ยออมทำกูอยากกินเอ็มเค    neg       9\n",
       "3                                                    😅😅😅    neu       1\n",
       "4                                สวัสดีวันพุธ แนน อะไรนะ    neu       8\n",
       "...                                                  ...    ...     ...\n",
       "25610                                         อีชาติชั้ว    neg       3\n",
       "25611                                         อีช้างเย๊ด    neg       3\n",
       "25612                                        อยากเอาหญิง    neg       3\n",
       "25613                                               ทมิฬ    neg       1\n",
       "25614                                          ลูกโสเภณี    neg       2\n",
       "\n",
       "[25097 rows x 3 columns]"
      ]
     },
     "execution_count": 10,
     "metadata": {},
     "output_type": "execute_result"
    }
   ],
   "source": [
    "data"
   ]
  },
  {
   "cell_type": "code",
   "execution_count": 11,
   "metadata": {},
   "outputs": [
    {
     "data": {
      "text/html": [
       "<div>\n",
       "<style scoped>\n",
       "    .dataframe tbody tr th:only-of-type {\n",
       "        vertical-align: middle;\n",
       "    }\n",
       "\n",
       "    .dataframe tbody tr th {\n",
       "        vertical-align: top;\n",
       "    }\n",
       "\n",
       "    .dataframe thead th {\n",
       "        text-align: right;\n",
       "    }\n",
       "</style>\n",
       "<table border=\"1\" class=\"dataframe\">\n",
       "  <thead>\n",
       "    <tr style=\"text-align: right;\">\n",
       "      <th></th>\n",
       "      <th>words</th>\n",
       "      <th>labels</th>\n",
       "      <th>length</th>\n",
       "    </tr>\n",
       "  </thead>\n",
       "  <tbody>\n",
       "    <tr>\n",
       "      <th>25182</th>\n",
       "      <td>ไม่ใครเห็นค่า</td>\n",
       "      <td>neg</td>\n",
       "      <td>4</td>\n",
       "    </tr>\n",
       "    <tr>\n",
       "      <th>2372</th>\n",
       "      <td>สวัสดีค่ะ คุณ หากสนใจ โคโลราโด ไฮคันทรี สตอร์ม...</td>\n",
       "      <td>neu</td>\n",
       "      <td>86</td>\n",
       "    </tr>\n",
       "    <tr>\n",
       "      <th>49</th>\n",
       "      <td>เบียร์สปายสเมอร์นอฟเป๊บซี่ ยังไง เข้าห้องน้ำสา...</td>\n",
       "      <td>neg</td>\n",
       "      <td>15</td>\n",
       "    </tr>\n",
       "    <tr>\n",
       "      <th>8093</th>\n",
       "      <td>มันได้โปรแค่วันธรรมดาอ่ะเบล จันทร์-ศุกร์😂😂</td>\n",
       "      <td>neg</td>\n",
       "      <td>13</td>\n",
       "    </tr>\n",
       "    <tr>\n",
       "      <th>13118</th>\n",
       "      <td>ร้าน MK สาขาใกล้บ้านได้เลยค่ะ ^^</td>\n",
       "      <td>neu</td>\n",
       "      <td>12</td>\n",
       "    </tr>\n",
       "    <tr>\n",
       "      <th>...</th>\n",
       "      <td>...</td>\n",
       "      <td>...</td>\n",
       "      <td>...</td>\n",
       "    </tr>\n",
       "    <tr>\n",
       "      <th>5400</th>\n",
       "      <td>บาร์บีคิวพลาซ่า ยัน จุดสีขาวนั่นไม่ใช่พยาธิ!</td>\n",
       "      <td>neu</td>\n",
       "      <td>13</td>\n",
       "    </tr>\n",
       "    <tr>\n",
       "      <th>13088</th>\n",
       "      <td>อ้วนพันล้านลอรีเอะคะ55555</td>\n",
       "      <td>neu</td>\n",
       "      <td>6</td>\n",
       "    </tr>\n",
       "    <tr>\n",
       "      <th>4035</th>\n",
       "      <td>กุพึ่งกินมาเอง</td>\n",
       "      <td>pos</td>\n",
       "      <td>5</td>\n",
       "    </tr>\n",
       "    <tr>\n",
       "      <th>4871</th>\n",
       "      <td>มาปักด้วย</td>\n",
       "      <td>neu</td>\n",
       "      <td>3</td>\n",
       "    </tr>\n",
       "    <tr>\n",
       "      <th>20541</th>\n",
       "      <td>ขอบคุณน้องหมิวมากๆเลยนะคะ 🙏🙏💗💗</td>\n",
       "      <td>pos</td>\n",
       "      <td>9</td>\n",
       "    </tr>\n",
       "  </tbody>\n",
       "</table>\n",
       "<p>100 rows × 3 columns</p>\n",
       "</div>"
      ],
      "text/plain": [
       "                                                   words labels  length\n",
       "25182                                      ไม่ใครเห็นค่า    neg       4\n",
       "2372   สวัสดีค่ะ คุณ หากสนใจ โคโลราโด ไฮคันทรี สตอร์ม...    neu      86\n",
       "49     เบียร์สปายสเมอร์นอฟเป๊บซี่ ยังไง เข้าห้องน้ำสา...    neg      15\n",
       "8093          มันได้โปรแค่วันธรรมดาอ่ะเบล จันทร์-ศุกร์😂😂    neg      13\n",
       "13118                   ร้าน MK สาขาใกล้บ้านได้เลยค่ะ ^^    neu      12\n",
       "...                                                  ...    ...     ...\n",
       "5400        บาร์บีคิวพลาซ่า ยัน จุดสีขาวนั่นไม่ใช่พยาธิ!    neu      13\n",
       "13088                          อ้วนพันล้านลอรีเอะคะ55555    neu       6\n",
       "4035                                      กุพึ่งกินมาเอง    pos       5\n",
       "4871                                           มาปักด้วย    neu       3\n",
       "20541                     ขอบคุณน้องหมิวมากๆเลยนะคะ 🙏🙏💗💗    pos       9\n",
       "\n",
       "[100 rows x 3 columns]"
      ]
     },
     "execution_count": 11,
     "metadata": {},
     "output_type": "execute_result"
    }
   ],
   "source": [
    "data.sample(100)"
   ]
  },
  {
   "cell_type": "code",
   "execution_count": 12,
   "metadata": {},
   "outputs": [],
   "source": [
    "from gensim.models import Word2Vec "
   ]
  },
  {
   "cell_type": "code",
   "execution_count": 13,
   "metadata": {},
   "outputs": [
    {
     "data": {
      "text/plain": [
       "(25097,)"
      ]
     },
     "execution_count": 13,
     "metadata": {},
     "output_type": "execute_result"
    }
   ],
   "source": [
    "y_train = [row for row in data['labels']]\n",
    "Y_train = array(y_train)\n",
    "Y_train.shape"
   ]
  },
  {
   "cell_type": "code",
   "execution_count": 14,
   "metadata": {},
   "outputs": [],
   "source": [
    "label_encoder = LabelEncoder()"
   ]
  },
  {
   "cell_type": "code",
   "execution_count": 15,
   "metadata": {},
   "outputs": [],
   "source": [
    "integer_encoder = label_encoder.fit_transform(Y_train)"
   ]
  },
  {
   "cell_type": "code",
   "execution_count": 16,
   "metadata": {},
   "outputs": [
    {
     "data": {
      "text/plain": [
       "array([1, 1, 0, ..., 0, 0, 0], dtype=int64)"
      ]
     },
     "execution_count": 16,
     "metadata": {},
     "output_type": "execute_result"
    }
   ],
   "source": [
    "integer_encoder"
   ]
  },
  {
   "cell_type": "code",
   "execution_count": 17,
   "metadata": {},
   "outputs": [],
   "source": [
    "ohe = OneHotEncoder(sparse=False)"
   ]
  },
  {
   "cell_type": "code",
   "execution_count": 18,
   "metadata": {},
   "outputs": [],
   "source": [
    "onehot_encoded = ohe.fit_transform(integer_encoder.reshape(-1,1))"
   ]
  },
  {
   "cell_type": "code",
   "execution_count": 19,
   "metadata": {},
   "outputs": [
    {
     "data": {
      "text/plain": [
       "array([[0., 1., 0.],\n",
       "       [0., 1., 0.],\n",
       "       [1., 0., 0.],\n",
       "       ...,\n",
       "       [1., 0., 0.],\n",
       "       [1., 0., 0.],\n",
       "       [1., 0., 0.]])"
      ]
     },
     "execution_count": 19,
     "metadata": {},
     "output_type": "execute_result"
    }
   ],
   "source": [
    "onehot_encoded"
   ]
  },
  {
   "cell_type": "code",
   "execution_count": 20,
   "metadata": {},
   "outputs": [],
   "source": [
    "tokenizer = Tokenizer()\n",
    "tokenizer.fit_on_texts(data.words.values)"
   ]
  },
  {
   "cell_type": "code",
   "execution_count": 21,
   "metadata": {},
   "outputs": [],
   "source": [
    "word_index = tokenizer.word_index"
   ]
  },
  {
   "cell_type": "code",
   "execution_count": 22,
   "metadata": {},
   "outputs": [],
   "source": [
    "vocab_size = len(word_index)"
   ]
  },
  {
   "cell_type": "code",
   "execution_count": 23,
   "metadata": {},
   "outputs": [
    {
     "data": {
      "text/plain": [
       "87090"
      ]
     },
     "execution_count": 23,
     "metadata": {},
     "output_type": "execute_result"
    }
   ],
   "source": [
    "vocab_size"
   ]
  },
  {
   "cell_type": "code",
   "execution_count": 24,
   "metadata": {},
   "outputs": [
    {
     "data": {
      "text/plain": [
       "count    25097.000000\n",
       "mean        25.850779\n",
       "std         44.237998\n",
       "min          1.000000\n",
       "25%          5.000000\n",
       "50%         11.000000\n",
       "75%         28.000000\n",
       "max        758.000000\n",
       "Name: length, dtype: float64"
      ]
     },
     "execution_count": 24,
     "metadata": {},
     "output_type": "execute_result"
    }
   ],
   "source": [
    "data['length'].describe()"
   ]
  },
  {
   "cell_type": "code",
   "execution_count": 25,
   "metadata": {},
   "outputs": [],
   "source": [
    "max_length = 758"
   ]
  },
  {
   "cell_type": "code",
   "execution_count": 26,
   "metadata": {},
   "outputs": [],
   "source": [
    "x_train = tokenizer.texts_to_sequences(data.words.values)"
   ]
  },
  {
   "cell_type": "code",
   "execution_count": 27,
   "metadata": {},
   "outputs": [],
   "source": [
    "x_train_padded = pad_sequences(x_train, maxlen=max_length ,padding='post')"
   ]
  },
  {
   "cell_type": "code",
   "execution_count": 28,
   "metadata": {},
   "outputs": [
    {
     "data": {
      "text/plain": [
       "(25097, 758)"
      ]
     },
     "execution_count": 28,
     "metadata": {},
     "output_type": "execute_result"
    }
   ],
   "source": [
    "x_train_padded.shape"
   ]
  },
  {
   "cell_type": "code",
   "execution_count": 29,
   "metadata": {},
   "outputs": [],
   "source": [
    "from tensorflow.keras.layers import Dense, Embedding, Flatten, Dropout, Activation\n",
    "from tensorflow.keras.models import Sequential"
   ]
  },
  {
   "cell_type": "code",
   "execution_count": 30,
   "metadata": {},
   "outputs": [
    {
     "name": "stdout",
     "output_type": "stream",
     "text": [
      "Model: \"sequential\"\n",
      "_________________________________________________________________\n",
      "Layer (type)                 Output Shape              Param #   \n",
      "=================================================================\n",
      "embedding (Embedding)        (None, 758, 32)           2786912   \n",
      "_________________________________________________________________\n",
      "flatten (Flatten)            (None, 24256)             0         \n",
      "_________________________________________________________________\n",
      "dense (Dense)                (None, 128)               3104896   \n",
      "_________________________________________________________________\n",
      "dense_1 (Dense)              (None, 3)                 387       \n",
      "=================================================================\n",
      "Total params: 5,892,195\n",
      "Trainable params: 5,892,195\n",
      "Non-trainable params: 0\n",
      "_________________________________________________________________\n"
     ]
    }
   ],
   "source": [
    "model = Sequential()\n",
    "model.add(Embedding(vocab_size+1,32,input_length=max_length))\n",
    "model.add(Flatten())\n",
    "model.add(Dense(128,activation='relu'))\n",
    "model.add(Dense(3,activation='softmax'))\n",
    "model.compile(loss='categorical_crossentropy', optimizer='adam',metrics=['accuracy'])\n",
    "model.summary()"
   ]
  },
  {
   "cell_type": "code",
   "execution_count": 31,
   "metadata": {},
   "outputs": [],
   "source": [
    "from sklearn.model_selection import train_test_split"
   ]
  },
  {
   "cell_type": "code",
   "execution_count": 32,
   "metadata": {},
   "outputs": [],
   "source": [
    "x_train, x_test, y_train, y_test = train_test_split(x_train_padded, onehot_encoded, test_size=0.3, shuffle=True)"
   ]
  },
  {
   "cell_type": "code",
   "execution_count": 33,
   "metadata": {},
   "outputs": [
    {
     "data": {
      "text/plain": [
       "((17567, 758), (17567, 3), (7530, 758), (7530, 3))"
      ]
     },
     "execution_count": 33,
     "metadata": {},
     "output_type": "execute_result"
    }
   ],
   "source": [
    "x_train.shape, y_train.shape, x_test.shape, y_test.shape"
   ]
  },
  {
   "cell_type": "code",
   "execution_count": 34,
   "metadata": {},
   "outputs": [
    {
     "name": "stdout",
     "output_type": "stream",
     "text": [
      "Train on 17567 samples, validate on 7530 samples\n",
      "Epoch 1/5\n",
      "17567/17567 [==============================] - 37s 2ms/sample - loss: 0.9902 - accuracy: 0.5200 - val_loss: 0.9564 - val_accuracy: 0.5223\n",
      "Epoch 2/5\n",
      "17567/17567 [==============================] - 40s 2ms/sample - loss: 0.5999 - accuracy: 0.7395 - val_loss: 1.0879 - val_accuracy: 0.5236\n",
      "Epoch 3/5\n",
      "17567/17567 [==============================] - 42s 2ms/sample - loss: 0.1752 - accuracy: 0.9359 - val_loss: 1.2577 - val_accuracy: 0.4944\n",
      "Epoch 4/5\n",
      "17567/17567 [==============================] - 40s 2ms/sample - loss: 0.0182 - accuracy: 0.9949 - val_loss: 1.3506 - val_accuracy: 0.5183\n",
      "Epoch 5/5\n",
      "17567/17567 [==============================] - 41s 2ms/sample - loss: 0.0101 - accuracy: 0.9968 - val_loss: 1.4238 - val_accuracy: 0.5189\n"
     ]
    },
    {
     "data": {
      "text/plain": [
       "<tensorflow.python.keras.callbacks.History at 0x1b9234e2b00>"
      ]
     },
     "execution_count": 34,
     "metadata": {},
     "output_type": "execute_result"
    }
   ],
   "source": [
    "model.fit(x_train,y_train,\n",
    "         batch_size=20,\n",
    "         epochs=5,\n",
    "         verbose=1,\n",
    "         validation_data=(x_test,y_test))"
   ]
  },
  {
   "cell_type": "code",
   "execution_count": 35,
   "metadata": {},
   "outputs": [
    {
     "name": "stdout",
     "output_type": "stream",
     "text": [
      "7530/7530 [==============================] - 1s 149us/sample - loss: 1.4238 - accuracy: 0.5189\n",
      "\n",
      "Test accuracy: 0.5188579\n"
     ]
    }
   ],
   "source": [
    "test_loss,test_acc = model.evaluate(x_test,y_test)\n",
    "print(\"\\nTest accuracy:\",test_acc)"
   ]
  },
  {
   "cell_type": "code",
   "execution_count": 36,
   "metadata": {},
   "outputs": [],
   "source": [
    "predicions = model.predict(x_test)"
   ]
  },
  {
   "cell_type": "code",
   "execution_count": null,
   "metadata": {},
   "outputs": [],
   "source": []
  }
 ],
 "metadata": {
  "kernelspec": {
   "display_name": "Python 3",
   "language": "python",
   "name": "python3"
  },
  "language_info": {
   "codemirror_mode": {
    "name": "ipython",
    "version": 3
   },
   "file_extension": ".py",
   "mimetype": "text/x-python",
   "name": "python",
   "nbconvert_exporter": "python",
   "pygments_lexer": "ipython3",
   "version": "3.6.2"
  }
 },
 "nbformat": 4,
 "nbformat_minor": 4
}
