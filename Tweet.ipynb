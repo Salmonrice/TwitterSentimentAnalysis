{
 "cells": [
  {
   "cell_type": "code",
   "execution_count": null,
   "metadata": {},
   "outputs": [],
   "source": [
    "import tweepy\n",
    "from textblob import TextBlob\n",
    "from wordcloud import WordCloud\n",
    "import pandas as pd\n",
    "import numpy as np\n",
    "import re\n",
    "import matplotlib.pyplot as plt\n",
    "\n",
    "plt.style.use('fivethirtyeight')\n"
   ]
  },
  {
   "cell_type": "code",
   "execution_count": null,
   "metadata": {},
   "outputs": [],
   "source": [
    "login = pd.read_csv('key.csv')\n",
    "consumer_key = login['key'][0]\n",
    "consumer_secret = login['secret'][0]\n",
    "access_token = login['token'][0]\n",
    "access_token_secret = login['token_secret'][0]"
   ]
  },
  {
   "cell_type": "code",
   "execution_count": null,
   "metadata": {},
   "outputs": [],
   "source": [
    "#auth obj\n",
    "authenticate = tweepy.OAuthHandler(consumer_key, consumer_secret)\n",
    "\n",
    "#set access token\n",
    "authenticate.set_access_token(access_token, access_token_secret)\n",
    "\n",
    "#create api obj\n",
    "api = tweepy.API(authenticate, wait_on_rate_limit = True)"
   ]
  },
  {
   "cell_type": "code",
   "execution_count": null,
   "metadata": {},
   "outputs": [],
   "source": [
    "#Extract 100 tweets from twitter user\n",
    "def getTweetFromUser(query,n,lang):\n",
    "    return api.user_timeline(screen_name=query, count=n, lang=lang, tweet_mode=\"extended\")\n",
    "\n",
    "def getTweet(query,n):\n",
    "    return api.search(q=query, count=n, tweet_mode=\"extended\")\n",
    "\n",
    "posts = getTweet(\"#ม็อบ18พฤศจิกา\",50)\n",
    "\n",
    "\n",
    "for tweet in posts[0:5]:\n",
    "    print(tweet.full_text+'\\n')"
   ]
  },
  {
   "cell_type": "code",
   "execution_count": null,
   "metadata": {},
   "outputs": [],
   "source": [
    "#create dataframe\n",
    "df = pd.DataFrame([tweet.full_text for tweet in posts], columns= ['Tweets'])\n",
    "\n",
    "df.head()"
   ]
  },
  {
   "cell_type": "code",
   "execution_count": null,
   "metadata": {},
   "outputs": [],
   "source": [
    "#clean the text\n",
    "\n",
    "#create function to clean the tweets\n",
    "def cleanText(text):\n",
    "    text = re.sub(r'@[A-Za-z0-9_]+:', '', text) # remove #mentions\n",
    "    text = re.sub(r'@[A-Za-z0-9_]+', '', text) # remove #mentions\n",
    "    text = re.sub(r'#','',text) # remove hashtag\n",
    "    text = re.sub(r'RT[\\s]+','', text) # remove RT\n",
    "    text = re.sub(r'https?:\\/\\/\\S+','', text) # remove hyper link\n",
    "    return text\n",
    "\n",
    "#clean the text\n",
    "df['Tweets'] = df['Tweets'].apply(cleanText)\n",
    "\n",
    "df"
   ]
  },
  {
   "cell_type": "code",
   "execution_count": null,
   "metadata": {},
   "outputs": [],
   "source": [
    "def getSubjectivity(text):\n",
    "    return TextBlob(text).sentiment.subjectivity\n",
    "\n",
    "def getPolarity(text):\n",
    "    return TextBlob(text).sentiment.polarity\n",
    "\n",
    "#create net col\n",
    "df['Subjectivity'] = df['Tweets'].apply(getSubjectivity)\n",
    "df['Polarity'] = df['Tweets'].apply(getPolarity)"
   ]
  },
  {
   "cell_type": "code",
   "execution_count": null,
   "metadata": {},
   "outputs": [],
   "source": [
    "df"
   ]
  },
  {
   "cell_type": "code",
   "execution_count": null,
   "metadata": {},
   "outputs": [],
   "source": [
    "df.to_csv(r'sentiment.csv', index = False)"
   ]
  },
  {
   "cell_type": "code",
   "execution_count": null,
   "metadata": {},
   "outputs": [],
   "source": []
  },
  {
   "cell_type": "code",
   "execution_count": null,
   "metadata": {},
   "outputs": [],
   "source": []
  },
  {
   "cell_type": "code",
   "execution_count": null,
   "metadata": {},
   "outputs": [],
   "source": []
  }
 ],
 "metadata": {
  "kernelspec": {
   "display_name": "Python 3",
   "language": "python",
   "name": "python3"
  },
  "language_info": {
   "codemirror_mode": {
    "name": "ipython",
    "version": 3
   },
   "file_extension": ".py",
   "mimetype": "text/x-python",
   "name": "python",
   "nbconvert_exporter": "python",
   "pygments_lexer": "ipython3",
   "version": "3.6.1"
  }
 },
 "nbformat": 4,
 "nbformat_minor": 4
}
