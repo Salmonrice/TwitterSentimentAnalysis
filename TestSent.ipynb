{
 "cells": [
  {
   "cell_type": "code",
   "execution_count": 6,
   "metadata": {},
   "outputs": [],
   "source": [
    "import deepcut\n",
    "from pathlib import Path\n",
    "from pythainlp import word_tokenize\n",
    "from matplotlib import pyplot as plt\n",
    "\n",
    "import re\n",
    "import pandas as pd\n",
    "import numpy as np\n",
    "from numpy import array\n",
    "from numpy import argmax\n",
    "\n",
    "from sklearn.preprocessing import OneHotEncoder\n",
    "from sklearn.preprocessing import LabelEncoder\n",
    "from keras.preprocessing.sequence import pad_sequences\n",
    "from keras.preprocessing.text import Tokenizer\n",
    "\n",
    "from nltk import FreqDist, precision, recall, f_measure, NaiveBayesClassifier\n",
    "from nltk.classify import apply_features\n",
    "from nltk.classify import util\n",
    "import collections, itertools\n",
    "from sklearn.model_selection import KFold"
   ]
  },
  {
   "cell_type": "code",
   "execution_count": 7,
   "metadata": {},
   "outputs": [
    {
     "data": {
      "text/html": [
       "<div>\n",
       "<style scoped>\n",
       "    .dataframe tbody tr th:only-of-type {\n",
       "        vertical-align: middle;\n",
       "    }\n",
       "\n",
       "    .dataframe tbody tr th {\n",
       "        vertical-align: top;\n",
       "    }\n",
       "\n",
       "    .dataframe thead th {\n",
       "        text-align: right;\n",
       "    }\n",
       "</style>\n",
       "<table border=\"1\" class=\"dataframe\">\n",
       "  <thead>\n",
       "    <tr style=\"text-align: right;\">\n",
       "      <th></th>\n",
       "      <th>texts</th>\n",
       "      <th>category</th>\n",
       "    </tr>\n",
       "  </thead>\n",
       "  <tbody>\n",
       "    <tr>\n",
       "      <th>0</th>\n",
       "      <td>ประเทศเราผลิตและส่งออกยาสูบเยอะสุดในโลกจิงป่าวคับ</td>\n",
       "      <td>neu</td>\n",
       "    </tr>\n",
       "    <tr>\n",
       "      <th>1</th>\n",
       "      <td>คะ</td>\n",
       "      <td>neu</td>\n",
       "    </tr>\n",
       "    <tr>\n",
       "      <th>2</th>\n",
       "      <td>อิเหี้ยออมทำกูอยากกินเอ็มเค</td>\n",
       "      <td>neg</td>\n",
       "    </tr>\n",
       "    <tr>\n",
       "      <th>3</th>\n",
       "      <td>😅😅😅</td>\n",
       "      <td>neu</td>\n",
       "    </tr>\n",
       "    <tr>\n",
       "      <th>4</th>\n",
       "      <td>สวัสดีวันพุธ แนน อะไรนะ</td>\n",
       "      <td>neu</td>\n",
       "    </tr>\n",
       "    <tr>\n",
       "      <th>...</th>\n",
       "      <td>...</td>\n",
       "      <td>...</td>\n",
       "    </tr>\n",
       "    <tr>\n",
       "      <th>25610</th>\n",
       "      <td>อีชาติชั้ว</td>\n",
       "      <td>neg</td>\n",
       "    </tr>\n",
       "    <tr>\n",
       "      <th>25611</th>\n",
       "      <td>อีช้างเย๊ด</td>\n",
       "      <td>neg</td>\n",
       "    </tr>\n",
       "    <tr>\n",
       "      <th>25612</th>\n",
       "      <td>อยากเอาหญิง</td>\n",
       "      <td>neg</td>\n",
       "    </tr>\n",
       "    <tr>\n",
       "      <th>25613</th>\n",
       "      <td>ทมิฬ</td>\n",
       "      <td>neg</td>\n",
       "    </tr>\n",
       "    <tr>\n",
       "      <th>25614</th>\n",
       "      <td>ลูกโสเภณี</td>\n",
       "      <td>neg</td>\n",
       "    </tr>\n",
       "  </tbody>\n",
       "</table>\n",
       "<p>25615 rows × 2 columns</p>\n",
       "</div>"
      ],
      "text/plain": [
       "                                                   texts category\n",
       "0      ประเทศเราผลิตและส่งออกยาสูบเยอะสุดในโลกจิงป่าวคับ      neu\n",
       "1                                                     คะ      neu\n",
       "2                            อิเหี้ยออมทำกูอยากกินเอ็มเค      neg\n",
       "3                                                    😅😅😅      neu\n",
       "4                                สวัสดีวันพุธ แนน อะไรนะ      neu\n",
       "...                                                  ...      ...\n",
       "25610                                         อีชาติชั้ว      neg\n",
       "25611                                         อีช้างเย๊ด      neg\n",
       "25612                                        อยากเอาหญิง      neg\n",
       "25613                                               ทมิฬ      neg\n",
       "25614                                          ลูกโสเภณี      neg\n",
       "\n",
       "[25615 rows x 2 columns]"
      ]
     },
     "execution_count": 7,
     "metadata": {},
     "output_type": "execute_result"
    }
   ],
   "source": [
    "df = pd.read_csv('train.csv')\n",
    "df = df.rename(columns={\"words\":\"texts\",\"labels\":\"category\"})\n",
    "df"
   ]
  },
  {
   "cell_type": "code",
   "execution_count": 8,
   "metadata": {},
   "outputs": [
    {
     "data": {
      "text/plain": [
       "'\\ntexts = []\\nlabels = []\\nwith open(\"C:/Users/60050204/BigData/wisesight-sentiment/kaggle-competition/train.txt\",encoding=\"utf8\") as f:\\n    for line in f:\\n        texts.append(line.strip())\\n        \\nwith open(\"C:/Users/60050204/BigData/wisesight-sentiment/kaggle-competition/train_label.txt\",encoding=\"utf8\") as f:\\n    for line in f:\\n        labels.append(line.strip())\\n\\ndf = pd.DataFrame({\"category\":labels, \"texts\":texts})\\ndf.shape\\n'"
      ]
     },
     "execution_count": 8,
     "metadata": {},
     "output_type": "execute_result"
    }
   ],
   "source": [
    "'''\n",
    "texts = []\n",
    "labels = []\n",
    "with open(\"C:/Users/60050204/BigData/wisesight-sentiment/kaggle-competition/train.txt\",encoding=\"utf8\") as f:\n",
    "    for line in f:\n",
    "        texts.append(line.strip())\n",
    "        \n",
    "with open(\"C:/Users/60050204/BigData/wisesight-sentiment/kaggle-competition/train_label.txt\",encoding=\"utf8\") as f:\n",
    "    for line in f:\n",
    "        labels.append(line.strip())\n",
    "\n",
    "df = pd.DataFrame({\"category\":labels, \"texts\":texts})\n",
    "df.shape\n",
    "'''"
   ]
  },
  {
   "cell_type": "code",
   "execution_count": 9,
   "metadata": {},
   "outputs": [
    {
     "data": {
      "text/html": [
       "<div>\n",
       "<style scoped>\n",
       "    .dataframe tbody tr th:only-of-type {\n",
       "        vertical-align: middle;\n",
       "    }\n",
       "\n",
       "    .dataframe tbody tr th {\n",
       "        vertical-align: top;\n",
       "    }\n",
       "\n",
       "    .dataframe thead th {\n",
       "        text-align: right;\n",
       "    }\n",
       "</style>\n",
       "<table border=\"1\" class=\"dataframe\">\n",
       "  <thead>\n",
       "    <tr style=\"text-align: right;\">\n",
       "      <th></th>\n",
       "      <th>texts</th>\n",
       "      <th>category</th>\n",
       "    </tr>\n",
       "  </thead>\n",
       "  <tbody>\n",
       "    <tr>\n",
       "      <th>4580</th>\n",
       "      <td>แหม่ ระดับผบทบ.มานั่งประธาน กระดิกนิ้วนิดเดียว...</td>\n",
       "      <td>neu</td>\n",
       "    </tr>\n",
       "    <tr>\n",
       "      <th>14013</th>\n",
       "      <td>ส่งให้ดูยังไม่สนใจ</td>\n",
       "      <td>neu</td>\n",
       "    </tr>\n",
       "    <tr>\n",
       "      <th>1120</th>\n",
       "      <td>มื้อเที่ยงวันนี้สาขาบิ๊กซีหาดใหญ่ค่ะ</td>\n",
       "      <td>neu</td>\n",
       "    </tr>\n",
       "    <tr>\n",
       "      <th>9943</th>\n",
       "      <td>ราคา 280 💸บาท มาส์กสำหรับผิวรอบดวงตาชนิดแรกของ...</td>\n",
       "      <td>neu</td>\n",
       "    </tr>\n",
       "    <tr>\n",
       "      <th>1932</th>\n",
       "      <td>น่าใช้นะ ถ้าไม่ใช่Camry ไม่เคยรู้สึกว่าToyotaน...</td>\n",
       "      <td>pos</td>\n",
       "    </tr>\n",
       "    <tr>\n",
       "      <th>20333</th>\n",
       "      <td>ชุมพรมั้ยอ้ะ?!😂</td>\n",
       "      <td>q</td>\n",
       "    </tr>\n",
       "    <tr>\n",
       "      <th>22865</th>\n",
       "      <td>นานไปไหม ปี 2020 All New Mazda BT-50 Pro รุ่นใ...</td>\n",
       "      <td>neu</td>\n",
       "    </tr>\n",
       "    <tr>\n",
       "      <th>4388</th>\n",
       "      <td>เตรียมพบกับ ใหม่! อีซูซุดีแมคซ์เอ็กซ์-ซีรี่ส์ ...</td>\n",
       "      <td>neu</td>\n",
       "    </tr>\n",
       "    <tr>\n",
       "      <th>7442</th>\n",
       "      <td>บ้านแสนสิริ บางหมู่บ้านอย่างแย่ สวยแต่รูป อยู่...</td>\n",
       "      <td>neg</td>\n",
       "    </tr>\n",
       "    <tr>\n",
       "      <th>13178</th>\n",
       "      <td>ใหม่! Precious Mineral Compact SPF30/PA++ แป้ง...</td>\n",
       "      <td>neu</td>\n",
       "    </tr>\n",
       "    <tr>\n",
       "      <th>14936</th>\n",
       "      <td>ไม่ชอบนิสสัน</td>\n",
       "      <td>neg</td>\n",
       "    </tr>\n",
       "    <tr>\n",
       "      <th>15008</th>\n",
       "      <td>ชอบ Honda brio amaze เพราะ ชอบดีไซน์ที่หรูหรา ...</td>\n",
       "      <td>pos</td>\n",
       "    </tr>\n",
       "    <tr>\n",
       "      <th>6647</th>\n",
       "      <td>เคยกินเรดปลอม หน้าตามือเท้าบวมหมด แพ้หนักมาก เ...</td>\n",
       "      <td>neg</td>\n",
       "    </tr>\n",
       "    <tr>\n",
       "      <th>16930</th>\n",
       "      <td>สำหรับเราต้องตัวนี้เลยจ้า Twelve Plus แป้งน้ำห...</td>\n",
       "      <td>pos</td>\n",
       "    </tr>\n",
       "    <tr>\n",
       "      <th>12766</th>\n",
       "      <td>พบกับบูธนิสสันที่ห้างเซ็นทรัลพระราม 2 วันที่ 1...</td>\n",
       "      <td>neu</td>\n",
       "    </tr>\n",
       "    <tr>\n",
       "      <th>5095</th>\n",
       "      <td>กำลังเปลี่ยนรถมาใช้ revo 2.4 ครับแต่กลัวอัตราเ...</td>\n",
       "      <td>neg</td>\n",
       "    </tr>\n",
       "    <tr>\n",
       "      <th>12881</th>\n",
       "      <td>ศุกร์แห่งชาติ 2 มี.ค.นี้ พลาดไม่ได้!! 🎸🎤🥁 ชมคอ...</td>\n",
       "      <td>neu</td>\n",
       "    </tr>\n",
       "    <tr>\n",
       "      <th>11380</th>\n",
       "      <td>ผ้าอนามัย แอ๊ดเวลค่ะ ลองหาดูในเว็บดูนะเพราะเรา...</td>\n",
       "      <td>pos</td>\n",
       "    </tr>\n",
       "    <tr>\n",
       "      <th>17616</th>\n",
       "      <td>อยากกินๆๆๆๆ</td>\n",
       "      <td>pos</td>\n",
       "    </tr>\n",
       "    <tr>\n",
       "      <th>9116</th>\n",
       "      <td>มันก็เป็นสิทธิของเจ้าของรถครับ ฮอนด้าไม่มีสิทธ...</td>\n",
       "      <td>neg</td>\n",
       "    </tr>\n",
       "  </tbody>\n",
       "</table>\n",
       "</div>"
      ],
      "text/plain": [
       "                                                   texts category\n",
       "4580   แหม่ ระดับผบทบ.มานั่งประธาน กระดิกนิ้วนิดเดียว...      neu\n",
       "14013                                 ส่งให้ดูยังไม่สนใจ      neu\n",
       "1120                มื้อเที่ยงวันนี้สาขาบิ๊กซีหาดใหญ่ค่ะ      neu\n",
       "9943   ราคา 280 💸บาท มาส์กสำหรับผิวรอบดวงตาชนิดแรกของ...      neu\n",
       "1932   น่าใช้นะ ถ้าไม่ใช่Camry ไม่เคยรู้สึกว่าToyotaน...      pos\n",
       "20333                                    ชุมพรมั้ยอ้ะ?!😂        q\n",
       "22865  นานไปไหม ปี 2020 All New Mazda BT-50 Pro รุ่นใ...      neu\n",
       "4388   เตรียมพบกับ ใหม่! อีซูซุดีแมคซ์เอ็กซ์-ซีรี่ส์ ...      neu\n",
       "7442   บ้านแสนสิริ บางหมู่บ้านอย่างแย่ สวยแต่รูป อยู่...      neg\n",
       "13178  ใหม่! Precious Mineral Compact SPF30/PA++ แป้ง...      neu\n",
       "14936                                       ไม่ชอบนิสสัน      neg\n",
       "15008  ชอบ Honda brio amaze เพราะ ชอบดีไซน์ที่หรูหรา ...      pos\n",
       "6647   เคยกินเรดปลอม หน้าตามือเท้าบวมหมด แพ้หนักมาก เ...      neg\n",
       "16930  สำหรับเราต้องตัวนี้เลยจ้า Twelve Plus แป้งน้ำห...      pos\n",
       "12766  พบกับบูธนิสสันที่ห้างเซ็นทรัลพระราม 2 วันที่ 1...      neu\n",
       "5095   กำลังเปลี่ยนรถมาใช้ revo 2.4 ครับแต่กลัวอัตราเ...      neg\n",
       "12881  ศุกร์แห่งชาติ 2 มี.ค.นี้ พลาดไม่ได้!! 🎸🎤🥁 ชมคอ...      neu\n",
       "11380  ผ้าอนามัย แอ๊ดเวลค่ะ ลองหาดูในเว็บดูนะเพราะเรา...      pos\n",
       "17616                                        อยากกินๆๆๆๆ      pos\n",
       "9116   มันก็เป็นสิทธิของเจ้าของรถครับ ฮอนด้าไม่มีสิทธ...      neg"
      ]
     },
     "execution_count": 9,
     "metadata": {},
     "output_type": "execute_result"
    }
   ],
   "source": [
    "df.sample(20)"
   ]
  },
  {
   "cell_type": "code",
   "execution_count": 10,
   "metadata": {},
   "outputs": [],
   "source": [
    "df = df[df.category != 'q']"
   ]
  },
  {
   "cell_type": "code",
   "execution_count": 11,
   "metadata": {},
   "outputs": [
    {
     "data": {
      "text/html": [
       "<div>\n",
       "<style scoped>\n",
       "    .dataframe tbody tr th:only-of-type {\n",
       "        vertical-align: middle;\n",
       "    }\n",
       "\n",
       "    .dataframe tbody tr th {\n",
       "        vertical-align: top;\n",
       "    }\n",
       "\n",
       "    .dataframe thead tr th {\n",
       "        text-align: left;\n",
       "    }\n",
       "\n",
       "    .dataframe thead tr:last-of-type th {\n",
       "        text-align: right;\n",
       "    }\n",
       "</style>\n",
       "<table border=\"1\" class=\"dataframe\">\n",
       "  <thead>\n",
       "    <tr>\n",
       "      <th></th>\n",
       "      <th colspan=\"4\" halign=\"left\">texts</th>\n",
       "    </tr>\n",
       "    <tr>\n",
       "      <th></th>\n",
       "      <th>count</th>\n",
       "      <th>unique</th>\n",
       "      <th>top</th>\n",
       "      <th>freq</th>\n",
       "    </tr>\n",
       "    <tr>\n",
       "      <th>category</th>\n",
       "      <th></th>\n",
       "      <th></th>\n",
       "      <th></th>\n",
       "      <th></th>\n",
       "    </tr>\n",
       "  </thead>\n",
       "  <tbody>\n",
       "    <tr>\n",
       "      <th>neg</th>\n",
       "      <td>7393</td>\n",
       "      <td>7393</td>\n",
       "      <td>ไปทานที่เมกะบางนา มา 2 ครั้ง เจอประสบการณ์ไม่ด...</td>\n",
       "      <td>1</td>\n",
       "    </tr>\n",
       "    <tr>\n",
       "      <th>neu</th>\n",
       "      <td>13087</td>\n",
       "      <td>13087</td>\n",
       "      <td>ขอวิธี ทาง หนี ที่ไล่ ด้วยครับ ถ้าเจอสถานการณ์...</td>\n",
       "      <td>1</td>\n",
       "    </tr>\n",
       "    <tr>\n",
       "      <th>pos</th>\n",
       "      <td>4617</td>\n",
       "      <td>4617</td>\n",
       "      <td>แถม</td>\n",
       "      <td>1</td>\n",
       "    </tr>\n",
       "  </tbody>\n",
       "</table>\n",
       "</div>"
      ],
      "text/plain": [
       "          texts                                                               \n",
       "          count unique                                                top freq\n",
       "category                                                                      \n",
       "neg        7393   7393  ไปทานที่เมกะบางนา มา 2 ครั้ง เจอประสบการณ์ไม่ด...    1\n",
       "neu       13087  13087  ขอวิธี ทาง หนี ที่ไล่ ด้วยครับ ถ้าเจอสถานการณ์...    1\n",
       "pos        4617   4617                                                แถม    1"
      ]
     },
     "execution_count": 11,
     "metadata": {},
     "output_type": "execute_result"
    }
   ],
   "source": [
    "df.groupby('category').describe()"
   ]
  },
  {
   "cell_type": "code",
   "execution_count": 12,
   "metadata": {},
   "outputs": [
    {
     "name": "stderr",
     "output_type": "stream",
     "text": [
      "C:\\Users\\60050204\\Anaconda3\\envs\\BigData\\lib\\site-packages\\ipykernel_launcher.py:1: SettingWithCopyWarning: \n",
      "A value is trying to be set on a copy of a slice from a DataFrame.\n",
      "Try using .loc[row_indexer,col_indexer] = value instead\n",
      "\n",
      "See the caveats in the documentation: https://pandas.pydata.org/pandas-docs/stable/user_guide/indexing.html#returning-a-view-versus-a-copy\n",
      "  \"\"\"Entry point for launching an IPython kernel.\n"
     ]
    },
    {
     "data": {
      "text/plain": [
       "count    25097.000000\n",
       "mean        25.850779\n",
       "std         44.237998\n",
       "min          1.000000\n",
       "25%          5.000000\n",
       "50%         11.000000\n",
       "75%         28.000000\n",
       "max        758.000000\n",
       "Name: length, dtype: float64"
      ]
     },
     "execution_count": 12,
     "metadata": {},
     "output_type": "execute_result"
    }
   ],
   "source": [
    "df['length'] = df['texts'].apply(word_tokenize).apply(len)\n",
    "df['length'].describe()"
   ]
  },
  {
   "cell_type": "code",
   "execution_count": 13,
   "metadata": {},
   "outputs": [
    {
     "data": {
      "text/html": [
       "<div>\n",
       "<style scoped>\n",
       "    .dataframe tbody tr th:only-of-type {\n",
       "        vertical-align: middle;\n",
       "    }\n",
       "\n",
       "    .dataframe tbody tr th {\n",
       "        vertical-align: top;\n",
       "    }\n",
       "\n",
       "    .dataframe thead th {\n",
       "        text-align: right;\n",
       "    }\n",
       "</style>\n",
       "<table border=\"1\" class=\"dataframe\">\n",
       "  <thead>\n",
       "    <tr style=\"text-align: right;\">\n",
       "      <th></th>\n",
       "      <th>texts</th>\n",
       "      <th>category</th>\n",
       "      <th>length</th>\n",
       "    </tr>\n",
       "  </thead>\n",
       "  <tbody>\n",
       "    <tr>\n",
       "      <th>0</th>\n",
       "      <td>ประเทศเราผลิตและส่งออกยาสูบเยอะสุดในโลกจิงป่าวคับ</td>\n",
       "      <td>neu</td>\n",
       "      <td>13</td>\n",
       "    </tr>\n",
       "    <tr>\n",
       "      <th>1</th>\n",
       "      <td>คะ</td>\n",
       "      <td>neu</td>\n",
       "      <td>1</td>\n",
       "    </tr>\n",
       "    <tr>\n",
       "      <th>2</th>\n",
       "      <td>อิเหี้ยออมทำกูอยากกินเอ็มเค</td>\n",
       "      <td>neg</td>\n",
       "      <td>9</td>\n",
       "    </tr>\n",
       "    <tr>\n",
       "      <th>3</th>\n",
       "      <td>😅😅😅</td>\n",
       "      <td>neu</td>\n",
       "      <td>1</td>\n",
       "    </tr>\n",
       "    <tr>\n",
       "      <th>4</th>\n",
       "      <td>สวัสดีวันพุธ แนน อะไรนะ</td>\n",
       "      <td>neu</td>\n",
       "      <td>8</td>\n",
       "    </tr>\n",
       "    <tr>\n",
       "      <th>...</th>\n",
       "      <td>...</td>\n",
       "      <td>...</td>\n",
       "      <td>...</td>\n",
       "    </tr>\n",
       "    <tr>\n",
       "      <th>25610</th>\n",
       "      <td>อีชาติชั้ว</td>\n",
       "      <td>neg</td>\n",
       "      <td>3</td>\n",
       "    </tr>\n",
       "    <tr>\n",
       "      <th>25611</th>\n",
       "      <td>อีช้างเย๊ด</td>\n",
       "      <td>neg</td>\n",
       "      <td>3</td>\n",
       "    </tr>\n",
       "    <tr>\n",
       "      <th>25612</th>\n",
       "      <td>อยากเอาหญิง</td>\n",
       "      <td>neg</td>\n",
       "      <td>3</td>\n",
       "    </tr>\n",
       "    <tr>\n",
       "      <th>25613</th>\n",
       "      <td>ทมิฬ</td>\n",
       "      <td>neg</td>\n",
       "      <td>1</td>\n",
       "    </tr>\n",
       "    <tr>\n",
       "      <th>25614</th>\n",
       "      <td>ลูกโสเภณี</td>\n",
       "      <td>neg</td>\n",
       "      <td>2</td>\n",
       "    </tr>\n",
       "  </tbody>\n",
       "</table>\n",
       "<p>25097 rows × 3 columns</p>\n",
       "</div>"
      ],
      "text/plain": [
       "                                                   texts category  length\n",
       "0      ประเทศเราผลิตและส่งออกยาสูบเยอะสุดในโลกจิงป่าวคับ      neu      13\n",
       "1                                                     คะ      neu       1\n",
       "2                            อิเหี้ยออมทำกูอยากกินเอ็มเค      neg       9\n",
       "3                                                    😅😅😅      neu       1\n",
       "4                                สวัสดีวันพุธ แนน อะไรนะ      neu       8\n",
       "...                                                  ...      ...     ...\n",
       "25610                                         อีชาติชั้ว      neg       3\n",
       "25611                                         อีช้างเย๊ด      neg       3\n",
       "25612                                        อยากเอาหญิง      neg       3\n",
       "25613                                               ทมิฬ      neg       1\n",
       "25614                                          ลูกโสเภณี      neg       2\n",
       "\n",
       "[25097 rows x 3 columns]"
      ]
     },
     "execution_count": 13,
     "metadata": {},
     "output_type": "execute_result"
    }
   ],
   "source": [
    "df"
   ]
  },
  {
   "cell_type": "code",
   "execution_count": 14,
   "metadata": {},
   "outputs": [
    {
     "data": {
      "text/html": [
       "<div>\n",
       "<style scoped>\n",
       "    .dataframe tbody tr th:only-of-type {\n",
       "        vertical-align: middle;\n",
       "    }\n",
       "\n",
       "    .dataframe tbody tr th {\n",
       "        vertical-align: top;\n",
       "    }\n",
       "\n",
       "    .dataframe thead th {\n",
       "        text-align: right;\n",
       "    }\n",
       "</style>\n",
       "<table border=\"1\" class=\"dataframe\">\n",
       "  <thead>\n",
       "    <tr style=\"text-align: right;\">\n",
       "      <th></th>\n",
       "      <th>texts</th>\n",
       "      <th>category</th>\n",
       "      <th>length</th>\n",
       "    </tr>\n",
       "  </thead>\n",
       "  <tbody>\n",
       "    <tr>\n",
       "      <th>8046</th>\n",
       "      <td>พรุ่งนี้ มีสอบจ้างเหมานะสิพี่ 😭😭</td>\n",
       "      <td>neu</td>\n",
       "      <td>11</td>\n",
       "    </tr>\n",
       "    <tr>\n",
       "      <th>4799</th>\n",
       "      <td>เอ็มเคจะมาส่งพรุ่งนี้เลยมั้ย กูจะได้ต้มรามยอนก...</td>\n",
       "      <td>neg</td>\n",
       "      <td>26</td>\n",
       "    </tr>\n",
       "    <tr>\n",
       "      <th>1462</th>\n",
       "      <td>พฤหัส #ไม่จริงงงน้ะะ ไม่ค่อยยุ่งงเท่าไหร่ #กิน...</td>\n",
       "      <td>neu</td>\n",
       "      <td>28</td>\n",
       "    </tr>\n",
       "    <tr>\n",
       "      <th>6258</th>\n",
       "      <td>อือหือ</td>\n",
       "      <td>neu</td>\n",
       "      <td>2</td>\n",
       "    </tr>\n",
       "    <tr>\n",
       "      <th>3061</th>\n",
       "      <td>หมดแล้วอะไรจะเร็วขนาดนี้</td>\n",
       "      <td>neg</td>\n",
       "      <td>7</td>\n",
       "    </tr>\n",
       "    <tr>\n",
       "      <th>...</th>\n",
       "      <td>...</td>\n",
       "      <td>...</td>\n",
       "      <td>...</td>\n",
       "    </tr>\n",
       "    <tr>\n",
       "      <th>20815</th>\n",
       "      <td>การที่ใส่ผ้าอนามัยสูตรเย็นแล้วมาเข้าห้องน้ำเอา...</td>\n",
       "      <td>neg</td>\n",
       "      <td>25</td>\n",
       "    </tr>\n",
       "    <tr>\n",
       "      <th>4225</th>\n",
       "      <td>ขายเบียร์ไมวันนี้ แอดมิน</td>\n",
       "      <td>neu</td>\n",
       "      <td>6</td>\n",
       "    </tr>\n",
       "    <tr>\n",
       "      <th>12179</th>\n",
       "      <td>อ้วนมากค่ะ</td>\n",
       "      <td>neg</td>\n",
       "      <td>3</td>\n",
       "    </tr>\n",
       "    <tr>\n",
       "      <th>24599</th>\n",
       "      <td>ค้าง</td>\n",
       "      <td>neg</td>\n",
       "      <td>1</td>\n",
       "    </tr>\n",
       "    <tr>\n",
       "      <th>11572</th>\n",
       "      <td>เดียวนี้แพงขึ้นเยอะเลย</td>\n",
       "      <td>neg</td>\n",
       "      <td>6</td>\n",
       "    </tr>\n",
       "  </tbody>\n",
       "</table>\n",
       "<p>100 rows × 3 columns</p>\n",
       "</div>"
      ],
      "text/plain": [
       "                                                   texts category  length\n",
       "8046                    พรุ่งนี้ มีสอบจ้างเหมานะสิพี่ 😭😭      neu      11\n",
       "4799   เอ็มเคจะมาส่งพรุ่งนี้เลยมั้ย กูจะได้ต้มรามยอนก...      neg      26\n",
       "1462   พฤหัส #ไม่จริงงงน้ะะ ไม่ค่อยยุ่งงเท่าไหร่ #กิน...      neu      28\n",
       "6258                                              อือหือ      neu       2\n",
       "3061                            หมดแล้วอะไรจะเร็วขนาดนี้      neg       7\n",
       "...                                                  ...      ...     ...\n",
       "20815  การที่ใส่ผ้าอนามัยสูตรเย็นแล้วมาเข้าห้องน้ำเอา...      neg      25\n",
       "4225                            ขายเบียร์ไมวันนี้ แอดมิน      neu       6\n",
       "12179                                         อ้วนมากค่ะ      neg       3\n",
       "24599                                               ค้าง      neg       1\n",
       "11572                             เดียวนี้แพงขึ้นเยอะเลย      neg       6\n",
       "\n",
       "[100 rows x 3 columns]"
      ]
     },
     "execution_count": 14,
     "metadata": {},
     "output_type": "execute_result"
    }
   ],
   "source": [
    "df.sample(100)"
   ]
  },
  {
   "cell_type": "code",
   "execution_count": 15,
   "metadata": {},
   "outputs": [],
   "source": [
    "from gensim.models import Word2Vec "
   ]
  },
  {
   "cell_type": "code",
   "execution_count": 16,
   "metadata": {},
   "outputs": [
    {
     "data": {
      "text/plain": [
       "(25097,)"
      ]
     },
     "execution_count": 16,
     "metadata": {},
     "output_type": "execute_result"
    }
   ],
   "source": [
    "y_train = [row for row in df['category']]\n",
    "Y_train = array(y_train)\n",
    "Y_train.shape"
   ]
  },
  {
   "cell_type": "code",
   "execution_count": 17,
   "metadata": {},
   "outputs": [],
   "source": [
    "label_encoder = LabelEncoder()"
   ]
  },
  {
   "cell_type": "code",
   "execution_count": 18,
   "metadata": {},
   "outputs": [],
   "source": [
    "integer_encoder = label_encoder.fit_transform(Y_train)"
   ]
  },
  {
   "cell_type": "code",
   "execution_count": 19,
   "metadata": {},
   "outputs": [
    {
     "data": {
      "text/plain": [
       "array([1, 1, 0, ..., 0, 0, 0], dtype=int64)"
      ]
     },
     "execution_count": 19,
     "metadata": {},
     "output_type": "execute_result"
    }
   ],
   "source": [
    "integer_encoder"
   ]
  },
  {
   "cell_type": "code",
   "execution_count": 20,
   "metadata": {},
   "outputs": [],
   "source": [
    "ohe = OneHotEncoder(sparse=False)"
   ]
  },
  {
   "cell_type": "code",
   "execution_count": 21,
   "metadata": {},
   "outputs": [],
   "source": [
    "onehot_encoded = ohe.fit_transform(integer_encoder.reshape(-1,1))"
   ]
  },
  {
   "cell_type": "code",
   "execution_count": 22,
   "metadata": {},
   "outputs": [
    {
     "data": {
      "text/plain": [
       "array([[0., 1., 0.],\n",
       "       [0., 1., 0.],\n",
       "       [1., 0., 0.],\n",
       "       ...,\n",
       "       [1., 0., 0.],\n",
       "       [1., 0., 0.],\n",
       "       [1., 0., 0.]])"
      ]
     },
     "execution_count": 22,
     "metadata": {},
     "output_type": "execute_result"
    }
   ],
   "source": [
    "onehot_encoded"
   ]
  },
  {
   "cell_type": "code",
   "execution_count": 23,
   "metadata": {},
   "outputs": [],
   "source": [
    "tokenizer = Tokenizer(num_words=100000)\n",
    "tokenizer.fit_on_texts(df.texts.values)\n"
   ]
  },
  {
   "cell_type": "code",
   "execution_count": 24,
   "metadata": {},
   "outputs": [],
   "source": [
    "word_index = tokenizer.word_index\n"
   ]
  },
  {
   "cell_type": "code",
   "execution_count": 25,
   "metadata": {},
   "outputs": [],
   "source": [
    "vocab_size = len(word_index)"
   ]
  },
  {
   "cell_type": "code",
   "execution_count": 26,
   "metadata": {},
   "outputs": [
    {
     "data": {
      "text/plain": [
       "87090"
      ]
     },
     "execution_count": 26,
     "metadata": {},
     "output_type": "execute_result"
    }
   ],
   "source": [
    "vocab_size"
   ]
  },
  {
   "cell_type": "code",
   "execution_count": 27,
   "metadata": {},
   "outputs": [
    {
     "data": {
      "text/plain": [
       "count    25097.000000\n",
       "mean        25.850779\n",
       "std         44.237998\n",
       "min          1.000000\n",
       "25%          5.000000\n",
       "50%         11.000000\n",
       "75%         28.000000\n",
       "max        758.000000\n",
       "Name: length, dtype: float64"
      ]
     },
     "execution_count": 27,
     "metadata": {},
     "output_type": "execute_result"
    }
   ],
   "source": [
    "df['length'].describe()"
   ]
  },
  {
   "cell_type": "code",
   "execution_count": 28,
   "metadata": {},
   "outputs": [],
   "source": [
    "max_length = 758"
   ]
  },
  {
   "cell_type": "code",
   "execution_count": 29,
   "metadata": {},
   "outputs": [],
   "source": [
    "x_train = tokenizer.texts_to_sequences(df.texts.values)"
   ]
  },
  {
   "cell_type": "code",
   "execution_count": 30,
   "metadata": {},
   "outputs": [],
   "source": [
    "x_train_padded = pad_sequences(x_train, maxlen=max_length ,padding='post')"
   ]
  },
  {
   "cell_type": "code",
   "execution_count": 31,
   "metadata": {},
   "outputs": [
    {
     "data": {
      "text/plain": [
       "(25097, 758)"
      ]
     },
     "execution_count": 31,
     "metadata": {},
     "output_type": "execute_result"
    }
   ],
   "source": [
    "x_train_padded.shape"
   ]
  },
  {
   "cell_type": "code",
   "execution_count": 32,
   "metadata": {},
   "outputs": [],
   "source": [
    "from tensorflow.keras.layers import Dense, Embedding, Flatten, Dropout, Activation\n",
    "from tensorflow.keras.models import Sequential"
   ]
  },
  {
   "cell_type": "code",
   "execution_count": 33,
   "metadata": {},
   "outputs": [
    {
     "name": "stdout",
     "output_type": "stream",
     "text": [
      "Model: \"sequential\"\n",
      "_________________________________________________________________\n",
      "Layer (type)                 Output Shape              Param #   \n",
      "=================================================================\n",
      "embedding (Embedding)        (None, 758, 32)           3200032   \n",
      "_________________________________________________________________\n",
      "flatten (Flatten)            (None, 24256)             0         \n",
      "_________________________________________________________________\n",
      "dense (Dense)                (None, 128)               3104896   \n",
      "_________________________________________________________________\n",
      "dense_1 (Dense)              (None, 128)               16512     \n",
      "_________________________________________________________________\n",
      "dense_2 (Dense)              (None, 128)               16512     \n",
      "_________________________________________________________________\n",
      "dense_3 (Dense)              (None, 128)               16512     \n",
      "_________________________________________________________________\n",
      "dense_4 (Dense)              (None, 128)               16512     \n",
      "_________________________________________________________________\n",
      "dense_5 (Dense)              (None, 3)                 387       \n",
      "=================================================================\n",
      "Total params: 6,371,363\n",
      "Trainable params: 6,371,363\n",
      "Non-trainable params: 0\n",
      "_________________________________________________________________\n"
     ]
    }
   ],
   "source": [
    "model = Sequential()\n",
    "model.add(Embedding(100000+1,32,input_length=max_length))\n",
    "model.add(Flatten())\n",
    "model.add(Dense(128,activation='relu'))\n",
    "model.add(Dense(128,activation='relu'))\n",
    "model.add(Dense(128,activation='relu'))\n",
    "model.add(Dense(128,activation='relu'))\n",
    "model.add(Dense(128,activation='relu'))\n",
    "model.add(Dense(3,activation='softmax'))\n",
    "model.compile(loss='categorical_crossentropy', optimizer='adam',metrics=['accuracy'])\n",
    "model.summary()"
   ]
  },
  {
   "cell_type": "code",
   "execution_count": 34,
   "metadata": {},
   "outputs": [],
   "source": [
    "from sklearn.model_selection import train_test_split"
   ]
  },
  {
   "cell_type": "code",
   "execution_count": 35,
   "metadata": {},
   "outputs": [],
   "source": [
    "x_train, x_test, y_train, y_test = train_test_split(x_train_padded, onehot_encoded, test_size=0.2, shuffle=True, random_state=101)\n",
    "#10fold\n",
    "#multi model"
   ]
  },
  {
   "cell_type": "code",
   "execution_count": 36,
   "metadata": {},
   "outputs": [
    {
     "data": {
      "text/plain": [
       "((20077, 758), (20077, 3), (5020, 758), (5020, 3))"
      ]
     },
     "execution_count": 36,
     "metadata": {},
     "output_type": "execute_result"
    }
   ],
   "source": [
    "x_train.shape, y_train.shape, x_test.shape, y_test.shape"
   ]
  },
  {
   "cell_type": "code",
   "execution_count": 37,
   "metadata": {},
   "outputs": [
    {
     "data": {
      "text/plain": [
       "(20077, 758)"
      ]
     },
     "execution_count": 37,
     "metadata": {},
     "output_type": "execute_result"
    }
   ],
   "source": [
    "x_train.shape"
   ]
  },
  {
   "cell_type": "code",
   "execution_count": 38,
   "metadata": {},
   "outputs": [
    {
     "name": "stdout",
     "output_type": "stream",
     "text": [
      "Train on 20077 samples\n",
      "Epoch 1/3\n",
      "20077/20077 [==============================] - 50s 3ms/sample - loss: 0.9834 - accuracy: 0.5233\n",
      "Epoch 2/3\n",
      "20077/20077 [==============================] - 45s 2ms/sample - loss: 0.6620 - accuracy: 0.7198\n",
      "Epoch 3/3\n",
      "20077/20077 [==============================] - 64s 3ms/sample - loss: 0.3344 - accuracy: 0.8625\n"
     ]
    },
    {
     "data": {
      "text/plain": [
       "<tensorflow.python.keras.callbacks.History at 0x1f20ace8630>"
      ]
     },
     "execution_count": 38,
     "metadata": {},
     "output_type": "execute_result"
    }
   ],
   "source": [
    "model.fit(x_train,y_train,\n",
    "         batch_size=20,\n",
    "         epochs=3,)"
   ]
  },
  {
   "cell_type": "code",
   "execution_count": 39,
   "metadata": {},
   "outputs": [
    {
     "name": "stdout",
     "output_type": "stream",
     "text": [
      "5020/5020 [==============================] - 1s 251us/sample - loss: 1.5206 - accuracy: 0.3418\n",
      "\n",
      "Test accuracy: 0.34183267\n",
      "\n",
      "Test Loss: 1.5205848508622066\n"
     ]
    }
   ],
   "source": [
    "test_loss,test_acc = model.evaluate(x_test,y_test)\n",
    "print(\"\\nTest accuracy:\",test_acc)\n",
    "print(\"\\nTest Loss:\",test_loss)\n"
   ]
  },
  {
   "cell_type": "code",
   "execution_count": 40,
   "metadata": {},
   "outputs": [
    {
     "data": {
      "text/plain": [
       "array([[0.08672076, 0.32930368, 0.5839756 ],\n",
       "       [0.0118133 , 0.8987223 , 0.08946445],\n",
       "       [0.6574621 , 0.01448253, 0.32805526],\n",
       "       ...,\n",
       "       [0.18298605, 0.11368454, 0.7033294 ],\n",
       "       [0.13286783, 0.15713805, 0.70999414],\n",
       "       [0.1412177 , 0.14661147, 0.7121709 ]], dtype=float32)"
      ]
     },
     "execution_count": 40,
     "metadata": {},
     "output_type": "execute_result"
    }
   ],
   "source": [
    "predicions = model.predict(x_test)\n",
    "predicions"
   ]
  },
  {
   "cell_type": "code",
   "execution_count": 41,
   "metadata": {},
   "outputs": [
    {
     "name": "stderr",
     "output_type": "stream",
     "text": [
      "C:\\Users\\60050204\\Anaconda3\\envs\\BigData\\lib\\site-packages\\sklearn\\utils\\validation.py:72: DataConversionWarning: A column-vector y was passed when a 1d array was expected. Please change the shape of y to (n_samples, ), for example using ravel().\n",
      "  return f(**kwargs)\n"
     ]
    }
   ],
   "source": [
    "reverse_ohe = ohe.inverse_transform(predicions)\n",
    "reverse_label = label_encoder.inverse_transform(reverse_ohe)\n",
    "reverse_label\n",
    "outputDataFrame = pd.DataFrame(reverse_label,columns={'label'})"
   ]
  },
  {
   "cell_type": "code",
   "execution_count": 42,
   "metadata": {},
   "outputs": [
    {
     "data": {
      "text/html": [
       "<div>\n",
       "<style scoped>\n",
       "    .dataframe tbody tr th:only-of-type {\n",
       "        vertical-align: middle;\n",
       "    }\n",
       "\n",
       "    .dataframe tbody tr th {\n",
       "        vertical-align: top;\n",
       "    }\n",
       "\n",
       "    .dataframe thead th {\n",
       "        text-align: right;\n",
       "    }\n",
       "</style>\n",
       "<table border=\"1\" class=\"dataframe\">\n",
       "  <thead>\n",
       "    <tr style=\"text-align: right;\">\n",
       "      <th></th>\n",
       "      <th>words</th>\n",
       "      <th>label</th>\n",
       "    </tr>\n",
       "  </thead>\n",
       "  <tbody>\n",
       "    <tr>\n",
       "      <th>0</th>\n",
       "      <td>เดอะเฟสช็อปนี่ใช้คุชชั่น เสียดายที่กัซไม่ได้โฆ...</td>\n",
       "      <td>pos</td>\n",
       "    </tr>\n",
       "    <tr>\n",
       "      <th>1</th>\n",
       "      <td>รบกวนสอบถาม เรื่องการต่ออายุบัตรสมาชิก ทาง mk ...</td>\n",
       "      <td>neu</td>\n",
       "    </tr>\n",
       "    <tr>\n",
       "      <th>2</th>\n",
       "      <td>ไม่เคยกล้าซื้อครีมที่ขายตามเน๊ตอ่ะ คือแบบ กูกล...</td>\n",
       "      <td>neg</td>\n",
       "    </tr>\n",
       "    <tr>\n",
       "      <th>3</th>\n",
       "      <td>ของการนอน</td>\n",
       "      <td>pos</td>\n",
       "    </tr>\n",
       "    <tr>\n",
       "      <th>4</th>\n",
       "      <td>ถึง29</td>\n",
       "      <td>pos</td>\n",
       "    </tr>\n",
       "    <tr>\n",
       "      <th>...</th>\n",
       "      <td>...</td>\n",
       "      <td>...</td>\n",
       "    </tr>\n",
       "    <tr>\n",
       "      <th>5015</th>\n",
       "      <td>ดีงามมาก ต้อง รามอินทรา</td>\n",
       "      <td>neu</td>\n",
       "    </tr>\n",
       "    <tr>\n",
       "      <th>5016</th>\n",
       "      <td>ผมถามหน่อยทุกท่านที่เล่น พร้อมสูบจริงๆ น้ำยาด้...</td>\n",
       "      <td>pos</td>\n",
       "    </tr>\n",
       "    <tr>\n",
       "      <th>5017</th>\n",
       "      <td>ตอแหลป่าว</td>\n",
       "      <td>pos</td>\n",
       "    </tr>\n",
       "    <tr>\n",
       "      <th>5018</th>\n",
       "      <td>พุกนี้ ศุกหรรษา จัดเรยก่</td>\n",
       "      <td>pos</td>\n",
       "    </tr>\n",
       "    <tr>\n",
       "      <th>5019</th>\n",
       "      <td>ได้พอค่า285หงษ์ทองลีโอช้างอ่ะอ้ายต๋อง555</td>\n",
       "      <td>pos</td>\n",
       "    </tr>\n",
       "  </tbody>\n",
       "</table>\n",
       "<p>5020 rows × 2 columns</p>\n",
       "</div>"
      ],
      "text/plain": [
       "                                                  words label\n",
       "0     เดอะเฟสช็อปนี่ใช้คุชชั่น เสียดายที่กัซไม่ได้โฆ...   pos\n",
       "1     รบกวนสอบถาม เรื่องการต่ออายุบัตรสมาชิก ทาง mk ...   neu\n",
       "2     ไม่เคยกล้าซื้อครีมที่ขายตามเน๊ตอ่ะ คือแบบ กูกล...   neg\n",
       "3                                             ของการนอน   pos\n",
       "4                                                 ถึง29   pos\n",
       "...                                                 ...   ...\n",
       "5015                            ดีงามมาก ต้อง รามอินทรา   neu\n",
       "5016  ผมถามหน่อยทุกท่านที่เล่น พร้อมสูบจริงๆ น้ำยาด้...   pos\n",
       "5017                                          ตอแหลป่าว   pos\n",
       "5018                           พุกนี้ ศุกหรรษา จัดเรยก่   pos\n",
       "5019           ได้พอค่า285หงษ์ทองลีโอช้างอ่ะอ้ายต๋อง555   pos\n",
       "\n",
       "[5020 rows x 2 columns]"
      ]
     },
     "execution_count": 42,
     "metadata": {},
     "output_type": "execute_result"
    }
   ],
   "source": [
    "reverse_x_test = tokenizer.sequences_to_texts(x_test)\n",
    "x_test_DF = pd.DataFrame(reverse_x_test,columns={'words'})\n",
    "\n",
    "sum_df = x_test_DF.join(outputDataFrame)\n",
    "sum_df\n"
   ]
  },
  {
   "cell_type": "code",
   "execution_count": 43,
   "metadata": {},
   "outputs": [
    {
     "data": {
      "text/html": [
       "<div>\n",
       "<style scoped>\n",
       "    .dataframe tbody tr th:only-of-type {\n",
       "        vertical-align: middle;\n",
       "    }\n",
       "\n",
       "    .dataframe tbody tr th {\n",
       "        vertical-align: top;\n",
       "    }\n",
       "\n",
       "    .dataframe thead th {\n",
       "        text-align: right;\n",
       "    }\n",
       "</style>\n",
       "<table border=\"1\" class=\"dataframe\">\n",
       "  <thead>\n",
       "    <tr style=\"text-align: right;\">\n",
       "      <th></th>\n",
       "      <th>texts</th>\n",
       "    </tr>\n",
       "  </thead>\n",
       "  <tbody>\n",
       "    <tr>\n",
       "      <th>0</th>\n",
       "      <td>กล้าพูดเนอะ</td>\n",
       "    </tr>\n",
       "  </tbody>\n",
       "</table>\n",
       "</div>"
      ],
      "text/plain": [
       "         texts\n",
       "0  กล้าพูดเนอะ"
      ]
     },
     "execution_count": 43,
     "metadata": {},
     "output_type": "execute_result"
    }
   ],
   "source": [
    "test_word = 'กล้าพูดเนอะ'\n",
    "test_word_df = pd.DataFrame([test_word],columns=['texts'])\n",
    "test_word_df"
   ]
  },
  {
   "cell_type": "code",
   "execution_count": 44,
   "metadata": {},
   "outputs": [
    {
     "data": {
      "text/plain": [
       "[[67864]]"
      ]
     },
     "execution_count": 44,
     "metadata": {},
     "output_type": "execute_result"
    }
   ],
   "source": [
    "test_word_encoded = tokenizer.texts_to_sequences(test_word_df.texts.values)\n",
    "test_word_padded = pad_sequences(test_word_encoded, maxlen=max_length ,padding='post')\n",
    "test_word_encoded"
   ]
  },
  {
   "cell_type": "code",
   "execution_count": 45,
   "metadata": {},
   "outputs": [
    {
     "data": {
      "text/plain": [
       "array([[0.31856638, 0.05295878, 0.62847483]], dtype=float32)"
      ]
     },
     "execution_count": 45,
     "metadata": {},
     "output_type": "execute_result"
    }
   ],
   "source": [
    "pred = model.predict(test_word_padded)\n",
    "pred"
   ]
  },
  {
   "cell_type": "code",
   "execution_count": 46,
   "metadata": {},
   "outputs": [
    {
     "name": "stderr",
     "output_type": "stream",
     "text": [
      "C:\\Users\\60050204\\Anaconda3\\envs\\BigData\\lib\\site-packages\\sklearn\\utils\\validation.py:72: DataConversionWarning: A column-vector y was passed when a 1d array was expected. Please change the shape of y to (n_samples, ), for example using ravel().\n",
      "  return f(**kwargs)\n"
     ]
    },
    {
     "data": {
      "text/plain": [
       "array(['pos'], dtype='<U3')"
      ]
     },
     "execution_count": 46,
     "metadata": {},
     "output_type": "execute_result"
    }
   ],
   "source": [
    "reverse_ohe = ohe.inverse_transform(pred)\n",
    "reverse_label = label_encoder.inverse_transform(reverse_ohe)\n",
    "reverse_label"
   ]
  },
  {
   "cell_type": "code",
   "execution_count": null,
   "metadata": {},
   "outputs": [],
   "source": []
  },
  {
   "cell_type": "code",
   "execution_count": null,
   "metadata": {},
   "outputs": [],
   "source": []
  }
 ],
 "metadata": {
  "kernelspec": {
   "display_name": "Python 3",
   "language": "python",
   "name": "python3"
  },
  "language_info": {
   "codemirror_mode": {
    "name": "ipython",
    "version": 3
   },
   "file_extension": ".py",
   "mimetype": "text/x-python",
   "name": "python",
   "nbconvert_exporter": "python",
   "pygments_lexer": "ipython3",
   "version": "3.6.2"
  }
 },
 "nbformat": 4,
 "nbformat_minor": 4
}
