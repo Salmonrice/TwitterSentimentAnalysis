{
 "cells": [
  {
   "cell_type": "code",
   "execution_count": 1,
   "metadata": {},
   "outputs": [],
   "source": [
    "import numpy as np\n",
    "import pandas as pd\n",
    "\n",
    "from pythainlp import word_tokenize\n",
    "from tqdm import tqdm_notebook\n",
    "from pythainlp.ulmfit import process_thai\n",
    "\n",
    "#viz\n",
    "import matplotlib.pyplot as plt\n",
    "import seaborn as sns"
   ]
  },
  {
   "cell_type": "code",
   "execution_count": 2,
   "metadata": {},
   "outputs": [],
   "source": [
    "import matplotlib\n",
    "matplotlib.font_manager._rebuild()\n",
    "matplotlib.rc('font', family='TH Sarabun New')"
   ]
  },
  {
   "cell_type": "code",
   "execution_count": 3,
   "metadata": {},
   "outputs": [
    {
     "data": {
      "text/plain": [
       "neu    0.544612\n",
       "neg    0.255164\n",
       "pos    0.178698\n",
       "q      0.021527\n",
       "Name: category, dtype: float64"
      ]
     },
     "execution_count": 3,
     "metadata": {},
     "output_type": "execute_result"
    }
   ],
   "source": [
    "#import dataset\n",
    "texts = []\n",
    "labels = []\n",
    "with open(\"C:/Users/60050204/BigData/wisesight-sentiment/kaggle-competition/train.txt\",encoding=\"utf8\") as f:\n",
    "    for line in f:\n",
    "        texts.append(line.strip())\n",
    "        \n",
    "with open(\"C:/Users/60050204/BigData/wisesight-sentiment/kaggle-competition/train_label.txt\",encoding=\"utf8\") as f:\n",
    "    for line in f:\n",
    "        labels.append(line.strip())\n",
    "\n",
    "all_df = pd.DataFrame({\"texts\":texts,\"category\":labels})\n",
    "all_df.shape\n",
    "all_df.category.value_counts() / all_df.shape[0]"
   ]
  },
  {
   "cell_type": "code",
   "execution_count": 4,
   "metadata": {},
   "outputs": [
    {
     "data": {
      "text/plain": [
       "['บ้าน',\n",
       " 'xxrep',\n",
       " 'อยู่',\n",
       " 'xxwrep',\n",
       " 'นาน',\n",
       " '😂',\n",
       " '🤣',\n",
       " '😃',\n",
       " '😄',\n",
       " '😅',\n",
       " 'pythainlp',\n",
       " '&',\n",
       " 'xxurl']"
      ]
     },
     "execution_count": 4,
     "metadata": {},
     "output_type": "execute_result"
    }
   ],
   "source": [
    "from pythainlp.ulmfit import *\n",
    "process_thai(\"บ้านนนนน ()อยู่นานนานนาน 😂🤣😃😄😅 PyThaiNLP amp;     www.google.com\")"
   ]
  },
  {
   "cell_type": "code",
   "execution_count": 5,
   "metadata": {},
   "outputs": [
    {
     "data": {
      "text/plain": [
       "neu    0.556594\n",
       "neg    0.260777\n",
       "pos    0.182629\n",
       "Name: category, dtype: float64"
      ]
     },
     "execution_count": 5,
     "metadata": {},
     "output_type": "execute_result"
    }
   ],
   "source": [
    "#import dataset\n",
    "all_df = all_df[all_df.category != 'q']\n",
    "all_df.to_csv('all_df.csv',index=False)\n",
    "all_df.shape\n",
    "all_df.category.value_counts() / all_df.shape[0]"
   ]
  },
  {
   "cell_type": "code",
   "execution_count": 6,
   "metadata": {},
   "outputs": [
    {
     "data": {
      "text/plain": [
       "(2674, 2)"
      ]
     },
     "execution_count": 6,
     "metadata": {},
     "output_type": "execute_result"
    }
   ],
   "source": [
    "with open(\"wisesight-sentiment-master/kaggle-competition/test.txt\",encoding=\"utf8\") as f:\n",
    "    texts = [line.strip() for line in f.readlines()]\n",
    "\n",
    "test_df = pd.DataFrame({\"category\":\"test\", \"texts\":texts})\n",
    "test_df.shape"
   ]
  },
  {
   "cell_type": "code",
   "execution_count": 7,
   "metadata": {},
   "outputs": [],
   "source": [
    "all_df[\"processed\"] = all_df.texts.map(lambda x: \"|\".join(process_thai(x)))\n",
    "all_df[\"wc\"] = all_df.processed.map(lambda x: len(x.split(\"|\")))\n",
    "all_df[\"uwc\"] = all_df.processed.map(lambda x: len(set(x.split(\"|\"))))\n",
    "\n",
    "test_df[\"processed\"] = test_df.texts.map(lambda x: \"|\".join(process_thai(x)))\n",
    "test_df[\"wc\"] = test_df.processed.map(lambda x: len(x.split(\"|\")))\n",
    "test_df[\"uwc\"] = test_df.processed.map(lambda x: len(set(x.split(\"|\"))))"
   ]
  },
  {
   "cell_type": "code",
   "execution_count": 8,
   "metadata": {},
   "outputs": [
    {
     "data": {
      "text/plain": [
       "neu    0.556594\n",
       "neg    0.260777\n",
       "pos    0.182629\n",
       "Name: category, dtype: float64"
      ]
     },
     "execution_count": 8,
     "metadata": {},
     "output_type": "execute_result"
    }
   ],
   "source": [
    "#prevalence\n",
    "all_df.category.value_counts() / all_df.shape[0]"
   ]
  },
  {
   "cell_type": "code",
   "execution_count": 9,
   "metadata": {},
   "outputs": [],
   "source": [
    "#80/20 train test split\n",
    "from sklearn.model_selection import train_test_split\n",
    "train_df, valid_df = train_test_split(all_df, test_size=0.20, random_state=101)\n",
    "train_df = train_df.reset_index(drop=True)\n",
    "valid_df = valid_df.reset_index(drop=True)"
   ]
  },
  {
   "cell_type": "code",
   "execution_count": 10,
   "metadata": {},
   "outputs": [
    {
     "data": {
      "text/html": [
       "<div>\n",
       "<style scoped>\n",
       "    .dataframe tbody tr th:only-of-type {\n",
       "        vertical-align: middle;\n",
       "    }\n",
       "\n",
       "    .dataframe tbody tr th {\n",
       "        vertical-align: top;\n",
       "    }\n",
       "\n",
       "    .dataframe thead th {\n",
       "        text-align: right;\n",
       "    }\n",
       "</style>\n",
       "<table border=\"1\" class=\"dataframe\">\n",
       "  <thead>\n",
       "    <tr style=\"text-align: right;\">\n",
       "      <th></th>\n",
       "      <th>category</th>\n",
       "      <th>texts</th>\n",
       "      <th>processed</th>\n",
       "      <th>wc</th>\n",
       "      <th>uwc</th>\n",
       "    </tr>\n",
       "  </thead>\n",
       "  <tbody>\n",
       "    <tr>\n",
       "      <th>0</th>\n",
       "      <td>neg</td>\n",
       "      <td>บาคาดี้รัมอะไร เผชชิบหาย</td>\n",
       "      <td>บา|คา|ดี้รัม|อะไร|เผ|ช|ชิบหาย</td>\n",
       "      <td>7</td>\n",
       "      <td>7</td>\n",
       "    </tr>\n",
       "    <tr>\n",
       "      <th>1</th>\n",
       "      <td>pos</td>\n",
       "      <td>อยากกินนนน สอบเสร็จจัดไปคะ5555</td>\n",
       "      <td>อยาก|กิน|xxrep|สอบ|เสร็จ|จัด|ไป|คะ|5|xxrep</td>\n",
       "      <td>10</td>\n",
       "      <td>9</td>\n",
       "    </tr>\n",
       "    <tr>\n",
       "      <th>2</th>\n",
       "      <td>neu</td>\n",
       "      <td>ดูยังเป็นเบียร์สิงว่ะ ช้างไม่ใช่เหรอ</td>\n",
       "      <td>ดู|ยัง|เป็น|เบียร์|สิง|ว่ะ|ช้าง|ไม่ใช่|เหรอ</td>\n",
       "      <td>9</td>\n",
       "      <td>9</td>\n",
       "    </tr>\n",
       "    <tr>\n",
       "      <th>3</th>\n",
       "      <td>neu</td>\n",
       "      <td>ไม่ทันใช่มั้ยยยย 😢</td>\n",
       "      <td>ไม่ทัน|ใช่|มั้ย|xxrep|😢</td>\n",
       "      <td>5</td>\n",
       "      <td>5</td>\n",
       "    </tr>\n",
       "    <tr>\n",
       "      <th>4</th>\n",
       "      <td>neu</td>\n",
       "      <td>- ฮอนด้า ซีวิค แฮทช์แบ็ก ใหม่ คือคันที่ E4 คะ ...</td>\n",
       "      <td>-|ฮอนด้า|ซีวิค|แฮทช์แบ็ก|ใหม่|คือ|คัน|ที่|e|4|...</td>\n",
       "      <td>13</td>\n",
       "      <td>13</td>\n",
       "    </tr>\n",
       "  </tbody>\n",
       "</table>\n",
       "</div>"
      ],
      "text/plain": [
       "  category                                              texts  \\\n",
       "0      neg                           บาคาดี้รัมอะไร เผชชิบหาย   \n",
       "1      pos                     อยากกินนนน สอบเสร็จจัดไปคะ5555   \n",
       "2      neu               ดูยังเป็นเบียร์สิงว่ะ ช้างไม่ใช่เหรอ   \n",
       "3      neu                                 ไม่ทันใช่มั้ยยยย 😢   \n",
       "4      neu  - ฮอนด้า ซีวิค แฮทช์แบ็ก ใหม่ คือคันที่ E4 คะ ...   \n",
       "\n",
       "                                           processed  wc  uwc  \n",
       "0                      บา|คา|ดี้รัม|อะไร|เผ|ช|ชิบหาย   7    7  \n",
       "1         อยาก|กิน|xxrep|สอบ|เสร็จ|จัด|ไป|คะ|5|xxrep  10    9  \n",
       "2        ดู|ยัง|เป็น|เบียร์|สิง|ว่ะ|ช้าง|ไม่ใช่|เหรอ   9    9  \n",
       "3                            ไม่ทัน|ใช่|มั้ย|xxrep|😢   5    5  \n",
       "4  -|ฮอนด้า|ซีวิค|แฮทช์แบ็ก|ใหม่|คือ|คัน|ที่|e|4|...  13   13  "
      ]
     },
     "execution_count": 10,
     "metadata": {},
     "output_type": "execute_result"
    }
   ],
   "source": [
    "valid_df.head()"
   ]
  },
  {
   "cell_type": "code",
   "execution_count": 11,
   "metadata": {},
   "outputs": [
    {
     "name": "stdout",
     "output_type": "stream",
     "text": [
      "neu    0.556588\n",
      "neg    0.259381\n",
      "pos    0.184030\n",
      "Name: category, dtype: float64\n"
     ]
    }
   ],
   "source": [
    "#prevalence\n",
    "print(train_df[\"category\"].value_counts() / train_df.shape[0])"
   ]
  },
  {
   "cell_type": "code",
   "execution_count": 13,
   "metadata": {},
   "outputs": [],
   "source": [
    "#dependent variables\n",
    "y_train = train_df[\"category\"]\n",
    "y_valid = valid_df[\"category\"]"
   ]
  },
  {
   "cell_type": "code",
   "execution_count": 14,
   "metadata": {},
   "outputs": [
    {
     "name": "stderr",
     "output_type": "stream",
     "text": [
      "C:\\Users\\60050204\\Anaconda3\\envs\\BigData\\lib\\site-packages\\sklearn\\feature_extraction\\text.py:484: UserWarning: The parameter 'token_pattern' will not be used since 'tokenizer' is not None'\n",
      "  warnings.warn(\"The parameter 'token_pattern' will not be used\"\n"
     ]
    },
    {
     "data": {
      "text/plain": [
       "((20013, 4563), (3532, 4563))"
      ]
     },
     "execution_count": 14,
     "metadata": {},
     "output_type": "execute_result"
    }
   ],
   "source": [
    "#text faetures\n",
    "from sklearn.feature_extraction.text import TfidfVectorizer\n",
    "from sklearn.linear_model import LogisticRegression\n",
    "\n",
    "tfidf = TfidfVectorizer(tokenizer=process_thai, ngram_range=(1,2), min_df=20, sublinear_tf=True)\n",
    "tfidf_fit = tfidf.fit(all_df[\"texts\"])\n",
    "text_train = tfidf_fit.transform(train_df[\"texts\"])\n",
    "text_valid = tfidf_fit.transform(valid_df[\"texts\"])\n",
    "text_test = tfidf_fit.transform(test_df[\"texts\"])\n",
    "text_train.shape, text_valid.shape"
   ]
  },
  {
   "cell_type": "code",
   "execution_count": 15,
   "metadata": {},
   "outputs": [
    {
     "name": "stdout",
     "output_type": "stream",
     "text": [
      "Wall time: 1.17 s\n",
      "(4563, 5)\n"
     ]
    },
    {
     "data": {
      "text/html": [
       "<div>\n",
       "<style scoped>\n",
       "    .dataframe tbody tr th:only-of-type {\n",
       "        vertical-align: middle;\n",
       "    }\n",
       "\n",
       "    .dataframe tbody tr th {\n",
       "        vertical-align: top;\n",
       "    }\n",
       "\n",
       "    .dataframe thead th {\n",
       "        text-align: right;\n",
       "    }\n",
       "</style>\n",
       "<table border=\"1\" class=\"dataframe\">\n",
       "  <thead>\n",
       "    <tr style=\"text-align: right;\">\n",
       "      <th></th>\n",
       "      <th>rank</th>\n",
       "      <th>feature</th>\n",
       "      <th>score</th>\n",
       "      <th>ngram</th>\n",
       "      <th>label</th>\n",
       "    </tr>\n",
       "  </thead>\n",
       "  <tbody>\n",
       "    <tr>\n",
       "      <th>0</th>\n",
       "      <td>0</td>\n",
       "      <td>ไม่</td>\n",
       "      <td>0.029826</td>\n",
       "      <td>1</td>\n",
       "      <td>neg</td>\n",
       "    </tr>\n",
       "    <tr>\n",
       "      <th>1</th>\n",
       "      <td>1</td>\n",
       "      <td>กิน</td>\n",
       "      <td>0.022833</td>\n",
       "      <td>1</td>\n",
       "      <td>neg</td>\n",
       "    </tr>\n",
       "    <tr>\n",
       "      <th>2</th>\n",
       "      <td>2</td>\n",
       "      <td>xxrep</td>\n",
       "      <td>0.021228</td>\n",
       "      <td>1</td>\n",
       "      <td>neg</td>\n",
       "    </tr>\n",
       "    <tr>\n",
       "      <th>3</th>\n",
       "      <td>3</td>\n",
       "      <td>เลย</td>\n",
       "      <td>0.019872</td>\n",
       "      <td>1</td>\n",
       "      <td>neg</td>\n",
       "    </tr>\n",
       "    <tr>\n",
       "      <th>4</th>\n",
       "      <td>4</td>\n",
       "      <td>แต่</td>\n",
       "      <td>0.017839</td>\n",
       "      <td>1</td>\n",
       "      <td>neg</td>\n",
       "    </tr>\n",
       "  </tbody>\n",
       "</table>\n",
       "</div>"
      ],
      "text/plain": [
       "   rank feature     score  ngram label\n",
       "0     0     ไม่  0.029826      1   neg\n",
       "1     1     กิน  0.022833      1   neg\n",
       "2     2   xxrep  0.021228      1   neg\n",
       "3     3     เลย  0.019872      1   neg\n",
       "4     4     แต่  0.017839      1   neg"
      ]
     },
     "execution_count": 15,
     "metadata": {},
     "output_type": "execute_result"
    }
   ],
   "source": [
    "#visualize texts\n",
    "from visualize import top_feats_all, plot_top_feats\n",
    "features = tfidf_fit.get_feature_names()\n",
    "%time ts = top_feats_all(text_train.toarray(), y_train, features)\n",
    "print(ts[0].shape)\n",
    "ts[0].head()"
   ]
  },
  {
   "cell_type": "code",
   "execution_count": 16,
   "metadata": {},
   "outputs": [
    {
     "data": {
      "image/png": "[encoded data removed]",
      "text/plain": [
       "<Figure size 864x648 with 3 Axes>"
      ]
     },
     "metadata": {},
     "output_type": "display_data"
    },
    {
     "name": "stdout",
     "output_type": "stream",
     "text": [
      "Wall time: 762 ms\n"
     ]
    }
   ],
   "source": [
    "%time plot_top_feats(ts)"
   ]
  },
  {
   "cell_type": "code",
   "execution_count": 17,
   "metadata": {},
   "outputs": [
    {
     "name": "stdout",
     "output_type": "stream",
     "text": [
      "[22.13221491 18.34330006] [1166.0826254   520.01860716]\n"
     ]
    },
    {
     "data": {
      "text/plain": [
       "((20013, 2), (3532, 2))"
      ]
     },
     "execution_count": 17,
     "metadata": {},
     "output_type": "execute_result"
    }
   ],
   "source": [
    "#word count and unique word counts\n",
    "from sklearn.preprocessing import StandardScaler\n",
    "\n",
    "scaler = StandardScaler()\n",
    "scaler_fit = scaler.fit(all_df[[\"wc\",\"uwc\"]].astype(float))\n",
    "print(scaler_fit.mean_, scaler_fit.var_)\n",
    "num_train = scaler_fit.transform(train_df[[\"wc\",\"uwc\"]].astype(float))\n",
    "num_valid = scaler_fit.transform(valid_df[[\"wc\",\"uwc\"]].astype(float))\n",
    "num_test = scaler_fit.transform(test_df[[\"wc\",\"uwc\"]].astype(float))\n",
    "num_train.shape, num_valid.shape"
   ]
  },
  {
   "cell_type": "code",
   "execution_count": 18,
   "metadata": {},
   "outputs": [
    {
     "data": {
      "text/plain": [
       "((20013, 4565), (3532, 4565))"
      ]
     },
     "execution_count": 18,
     "metadata": {},
     "output_type": "execute_result"
    }
   ],
   "source": [
    "#concatenate text and word count features\n",
    "X_train = np.concatenate([num_train,text_train.toarray()],axis=1)\n",
    "X_valid = np.concatenate([num_valid,text_valid.toarray()],axis=1)\n",
    "X_test = np.concatenate([num_test,text_test.toarray()],axis=1)\n",
    "X_train.shape, X_valid.shape"
   ]
  },
  {
   "cell_type": "code",
   "execution_count": 19,
   "metadata": {},
   "outputs": [
    {
     "data": {
      "text/plain": [
       "0.7494337485843715"
      ]
     },
     "execution_count": 19,
     "metadata": {},
     "output_type": "execute_result"
    }
   ],
   "source": [
    "#fit logistic regression models\n",
    "model = LogisticRegression(C=2., penalty=\"l2\", solver=\"liblinear\", dual=False, multi_class=\"ovr\")\n",
    "model.fit(X_train,y_train)\n",
    "model.score(X_valid,y_valid)"
   ]
  },
  {
   "cell_type": "code",
   "execution_count": 20,
   "metadata": {},
   "outputs": [],
   "source": [
    "#prodict the validate dataset\n",
    "probs = model.predict_proba(X_valid)\n",
    "probs_df = pd.DataFrame(probs)\n",
    "probs_df.columns = model.classes_\n",
    "probs_df[\"preds\"] = model.predict(X_valid)\n",
    "probs_df[\"category\"] = valid_df.category\n",
    "probs_df[\"texts\"] = valid_df.texts\n",
    "probs_df[\"processed\"] = valid_df.processed\n",
    "probs_df[\"wc\"] = valid_df.wc\n",
    "probs_df[\"uwc\"] = valid_df.uwc\n",
    "probs_df[\"hit\"] = (probs_df.preds==probs_df.category)\n",
    "probs_df.to_csv(\"probs_df_linear.csv\", index=False)"
   ]
  },
  {
   "cell_type": "code",
   "execution_count": 21,
   "metadata": {},
   "outputs": [
    {
     "name": "stdout",
     "output_type": "stream",
     "text": [
      "0.7494337485843715\n"
     ]
    },
    {
     "data": {
      "image/png": "[encoded data removed]",
      "text/plain": [
       "<Figure size 432x288 with 2 Axes>"
      ]
     },
     "metadata": {
      "needs_background": "light"
     },
     "output_type": "display_data"
    }
   ],
   "source": [
    "#confusion matrix\n",
    "from sklearn.metrics import confusion_matrix\n",
    "\n",
    "conf_mat = confusion_matrix(probs_df.category,probs_df.preds)\n",
    "print(model.score(X_valid,y_valid))\n",
    "sns.heatmap(conf_mat, annot=True, fmt=\"d\",\n",
    "            xticklabels=model.classes_, yticklabels=model.classes_)\n",
    "plt.ylabel(\"Actual\")\n",
    "plt.xlabel(\"Predicted\")\n",
    "plt.show()"
   ]
  },
  {
   "cell_type": "code",
   "execution_count": 23,
   "metadata": {},
   "outputs": [
    {
     "data": {
      "text/html": [
       "<div>\n",
       "<style scoped>\n",
       "    .dataframe tbody tr th:only-of-type {\n",
       "        vertical-align: middle;\n",
       "    }\n",
       "\n",
       "    .dataframe tbody tr th {\n",
       "        vertical-align: top;\n",
       "    }\n",
       "\n",
       "    .dataframe thead th {\n",
       "        text-align: right;\n",
       "    }\n",
       "</style>\n",
       "<table border=\"1\" class=\"dataframe\">\n",
       "  <thead>\n",
       "    <tr style=\"text-align: right;\">\n",
       "      <th></th>\n",
       "      <th>neg</th>\n",
       "      <th>neu</th>\n",
       "      <th>pos</th>\n",
       "      <th>pred</th>\n",
       "      <th>texts</th>\n",
       "      <th>processed</th>\n",
       "      <th>wc</th>\n",
       "      <th>uwc</th>\n",
       "    </tr>\n",
       "  </thead>\n",
       "  <tbody>\n",
       "    <tr>\n",
       "      <th>0</th>\n",
       "      <td>0.238789</td>\n",
       "      <td>0.558523</td>\n",
       "      <td>0.202688</td>\n",
       "      <td>neu</td>\n",
       "      <td>เราจะทำตามสัญญาขอเวลาอีกนิดนึงนะจ๊ะ</td>\n",
       "      <td>เรา|จะ|ทำตาม|สัญญา|ขอเวลา|อีก|นิดนึง|นะจ๊ะ</td>\n",
       "      <td>8</td>\n",
       "      <td>8</td>\n",
       "    </tr>\n",
       "  </tbody>\n",
       "</table>\n",
       "</div>"
      ],
      "text/plain": [
       "        neg       neu       pos pred                                texts  \\\n",
       "0  0.238789  0.558523  0.202688  neu  เราจะทำตามสัญญาขอเวลาอีกนิดนึงนะจ๊ะ   \n",
       "\n",
       "                                    processed  wc  uwc  \n",
       "0  เรา|จะ|ทำตาม|สัญญา|ขอเวลา|อีก|นิดนึง|นะจ๊ะ   8    8  "
      ]
     },
     "execution_count": 23,
     "metadata": {},
     "output_type": "execute_result"
    }
   ],
   "source": [
    "#test the model\n",
    "test_input = pd.DataFrame({\"texts\":[\"เราจะทำตามสัญญาขอเวลาอีกนิดนึงนะจ๊ะ\"]})\n",
    "test_input[\"processed\"] = test_input.texts.map(lambda x: \"|\".join(process_thai(x)))\n",
    "test_input[\"wc\"] = test_input.processed.map(lambda x: len(x.split(\"|\")))\n",
    "test_input[\"uwc\"] = test_input.processed.map(lambda x: len(set(x.split(\"|\"))))\n",
    "\n",
    "tf_input = tfidf_fit.transform(test_input[\"texts\"])\n",
    "\n",
    "num_input = scaler_fit.transform(test_input[[\"wc\",\"uwc\"]].astype(float))\n",
    "\n",
    "t_input =  np.concatenate([num_input,tf_input.toarray()],axis=1)\n",
    "\n",
    "output_pd = pd.DataFrame(model.predict_proba(t_input))\n",
    "output_pd.columns = model.classes_\n",
    "output_pd[\"pred\"] = model.predict(t_input)\n",
    "output_pd[\"texts\"] = test_input.texts\n",
    "output_pd[\"processed\"] = test_input.processed\n",
    "output_pd[\"wc\"] = test_input.wc\n",
    "output_pd[\"uwc\"] = test_input.uwc\n",
    "\n",
    "output_pd"
   ]
  },
  {
   "cell_type": "code",
   "execution_count": 25,
   "metadata": {},
   "outputs": [
    {
     "data": {
      "text/plain": [
       "['scaler_model.pkl']"
      ]
     },
     "execution_count": 25,
     "metadata": {},
     "output_type": "execute_result"
    }
   ],
   "source": [
    "#export model\n",
    "import joblib\n",
    "joblib.dump(model,'sent_model.pkl')\n",
    "joblib.dump(tfidf_fit, 'tfidf_model.pkl')\n",
    "joblib.dump(scaler_fit, 'scaler_model.pkl')"
   ]
  }
 ],
 "metadata": {
  "kernelspec": {
   "display_name": "Python 3",
   "language": "python",
   "name": "python3"
  },
  "language_info": {
   "codemirror_mode": {
    "name": "ipython",
    "version": 3
   },
   "file_extension": ".py",
   "mimetype": "text/x-python",
   "name": "python",
   "nbconvert_exporter": "python",
   "pygments_lexer": "ipython3",
   "version": "3.6.2"
  }
 },
 "nbformat": 4,
 "nbformat_minor": 4
}
